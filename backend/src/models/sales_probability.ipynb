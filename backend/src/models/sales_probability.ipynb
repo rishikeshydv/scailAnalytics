{
 "cells": [
  {
   "cell_type": "markdown",
   "metadata": {},
   "source": [
    "Sales Probability: Provide an estimated number of days to which the property can be sold"
   ]
  },
  {
   "cell_type": "code",
   "execution_count": 2,
   "metadata": {},
   "outputs": [],
   "source": [
    "#importing modules\n",
    "import tensorflow as tf\n",
    "from tensorflow import keras\n",
    "from keras import datasets\n",
    "from keras import layers\n",
    "from keras import models\n",
    "import time\n",
    "import matplotlib.pyplot as plt\n",
    "import numpy as np\n",
    "import pandas as pd\n",
    "import keras as K\n",
    "from tensorflow import keras\n",
    "from sklearn.model_selection import train_test_split\n",
    "from keras.layers import Embedding, Conv1D, GlobalMaxPooling1D, Dense\n",
    "from keras.models import Sequential\n",
    "from sklearn.preprocessing import LabelEncoder\n",
    "#from keras.preprocessing.text import Tokenizer\n",
    "from keras.preprocessing.sequence import pad_sequences\n",
    "from keras.utils import to_categorical\n",
    "import spacy\n",
    "from sklearn.metrics.pairwise import cosine_similarity\n",
    "from sklearn.preprocessing import StandardScaler, OneHotEncoder\n",
    "from sklearn.compose import ColumnTransformer\n",
    "from sklearn.pipeline import Pipeline\n",
    "import joblib"
   ]
  },
  {
   "cell_type": "code",
   "execution_count": 3,
   "metadata": {},
   "outputs": [],
   "source": [
    "import ssl\n",
    "ssl._create_default_https_context = ssl._create_unverified_context\n"
   ]
  },
  {
   "cell_type": "code",
   "execution_count": 4,
   "metadata": {},
   "outputs": [
    {
     "data": {
      "text/html": [
       "<div>\n",
       "<style scoped>\n",
       "    .dataframe tbody tr th:only-of-type {\n",
       "        vertical-align: middle;\n",
       "    }\n",
       "\n",
       "    .dataframe tbody tr th {\n",
       "        vertical-align: top;\n",
       "    }\n",
       "\n",
       "    .dataframe thead th {\n",
       "        text-align: right;\n",
       "    }\n",
       "</style>\n",
       "<table border=\"1\" class=\"dataframe\">\n",
       "  <thead>\n",
       "    <tr style=\"text-align: right;\">\n",
       "      <th></th>\n",
       "      <th>brokered_by</th>\n",
       "      <th>status</th>\n",
       "      <th>price</th>\n",
       "      <th>bed</th>\n",
       "      <th>bath</th>\n",
       "      <th>acre_lot</th>\n",
       "      <th>street</th>\n",
       "      <th>city</th>\n",
       "      <th>state</th>\n",
       "      <th>zip_code</th>\n",
       "      <th>house_size</th>\n",
       "      <th>prev_sold_date</th>\n",
       "    </tr>\n",
       "  </thead>\n",
       "  <tbody>\n",
       "    <tr>\n",
       "      <th>0</th>\n",
       "      <td>103378.0</td>\n",
       "      <td>for_sale</td>\n",
       "      <td>105000.0</td>\n",
       "      <td>3.0</td>\n",
       "      <td>2.0</td>\n",
       "      <td>0.12</td>\n",
       "      <td>1962661.0</td>\n",
       "      <td>Adjuntas</td>\n",
       "      <td>Puerto Rico</td>\n",
       "      <td>601.0</td>\n",
       "      <td>920.0</td>\n",
       "      <td>NaN</td>\n",
       "    </tr>\n",
       "    <tr>\n",
       "      <th>1</th>\n",
       "      <td>52707.0</td>\n",
       "      <td>for_sale</td>\n",
       "      <td>80000.0</td>\n",
       "      <td>4.0</td>\n",
       "      <td>2.0</td>\n",
       "      <td>0.08</td>\n",
       "      <td>1902874.0</td>\n",
       "      <td>Adjuntas</td>\n",
       "      <td>Puerto Rico</td>\n",
       "      <td>601.0</td>\n",
       "      <td>1527.0</td>\n",
       "      <td>NaN</td>\n",
       "    </tr>\n",
       "    <tr>\n",
       "      <th>2</th>\n",
       "      <td>103379.0</td>\n",
       "      <td>for_sale</td>\n",
       "      <td>67000.0</td>\n",
       "      <td>2.0</td>\n",
       "      <td>1.0</td>\n",
       "      <td>0.15</td>\n",
       "      <td>1404990.0</td>\n",
       "      <td>Juana Diaz</td>\n",
       "      <td>Puerto Rico</td>\n",
       "      <td>795.0</td>\n",
       "      <td>748.0</td>\n",
       "      <td>NaN</td>\n",
       "    </tr>\n",
       "    <tr>\n",
       "      <th>3</th>\n",
       "      <td>31239.0</td>\n",
       "      <td>for_sale</td>\n",
       "      <td>145000.0</td>\n",
       "      <td>4.0</td>\n",
       "      <td>2.0</td>\n",
       "      <td>0.10</td>\n",
       "      <td>1947675.0</td>\n",
       "      <td>Ponce</td>\n",
       "      <td>Puerto Rico</td>\n",
       "      <td>731.0</td>\n",
       "      <td>1800.0</td>\n",
       "      <td>NaN</td>\n",
       "    </tr>\n",
       "    <tr>\n",
       "      <th>4</th>\n",
       "      <td>34632.0</td>\n",
       "      <td>for_sale</td>\n",
       "      <td>65000.0</td>\n",
       "      <td>6.0</td>\n",
       "      <td>2.0</td>\n",
       "      <td>0.05</td>\n",
       "      <td>331151.0</td>\n",
       "      <td>Mayaguez</td>\n",
       "      <td>Puerto Rico</td>\n",
       "      <td>680.0</td>\n",
       "      <td>NaN</td>\n",
       "      <td>NaN</td>\n",
       "    </tr>\n",
       "  </tbody>\n",
       "</table>\n",
       "</div>"
      ],
      "text/plain": [
       "   brokered_by    status     price  bed  bath  acre_lot     street  \\\n",
       "0     103378.0  for_sale  105000.0  3.0   2.0      0.12  1962661.0   \n",
       "1      52707.0  for_sale   80000.0  4.0   2.0      0.08  1902874.0   \n",
       "2     103379.0  for_sale   67000.0  2.0   1.0      0.15  1404990.0   \n",
       "3      31239.0  for_sale  145000.0  4.0   2.0      0.10  1947675.0   \n",
       "4      34632.0  for_sale   65000.0  6.0   2.0      0.05   331151.0   \n",
       "\n",
       "         city        state  zip_code  house_size prev_sold_date  \n",
       "0    Adjuntas  Puerto Rico     601.0       920.0            NaN  \n",
       "1    Adjuntas  Puerto Rico     601.0      1527.0            NaN  \n",
       "2  Juana Diaz  Puerto Rico     795.0       748.0            NaN  \n",
       "3       Ponce  Puerto Rico     731.0      1800.0            NaN  \n",
       "4    Mayaguez  Puerto Rico     680.0         NaN            NaN  "
      ]
     },
     "execution_count": 4,
     "metadata": {},
     "output_type": "execute_result"
    }
   ],
   "source": [
    "data_path = \"data.csv\"\n",
    "df = pd.read_csv(data_path)\n",
    "df.head()"
   ]
  },
  {
   "cell_type": "code",
   "execution_count": 5,
   "metadata": {},
   "outputs": [],
   "source": [
    "state_df = df[df['state'] == 'New Jersey']"
   ]
  },
  {
   "cell_type": "code",
   "execution_count": 6,
   "metadata": {},
   "outputs": [],
   "source": [
    "state_df_duplicate = pd.concat([state_df,state_df,state_df,state_df,state_df,state_df,state_df,state_df], ignore_index=True)\n"
   ]
  },
  {
   "cell_type": "code",
   "execution_count": 7,
   "metadata": {},
   "outputs": [],
   "source": [
    "state_df_cleaned= state_df_duplicate.dropna()"
   ]
  },
  {
   "cell_type": "code",
   "execution_count": 8,
   "metadata": {},
   "outputs": [
    {
     "data": {
      "text/html": [
       "<div>\n",
       "<style scoped>\n",
       "    .dataframe tbody tr th:only-of-type {\n",
       "        vertical-align: middle;\n",
       "    }\n",
       "\n",
       "    .dataframe tbody tr th {\n",
       "        vertical-align: top;\n",
       "    }\n",
       "\n",
       "    .dataframe thead th {\n",
       "        text-align: right;\n",
       "    }\n",
       "</style>\n",
       "<table border=\"1\" class=\"dataframe\">\n",
       "  <thead>\n",
       "    <tr style=\"text-align: right;\">\n",
       "      <th></th>\n",
       "      <th>brokered_by</th>\n",
       "      <th>status</th>\n",
       "      <th>price</th>\n",
       "      <th>bed</th>\n",
       "      <th>bath</th>\n",
       "      <th>acre_lot</th>\n",
       "      <th>street</th>\n",
       "      <th>city</th>\n",
       "      <th>state</th>\n",
       "      <th>zip_code</th>\n",
       "      <th>house_size</th>\n",
       "      <th>prev_sold_date</th>\n",
       "    </tr>\n",
       "  </thead>\n",
       "  <tbody>\n",
       "    <tr>\n",
       "      <th>1</th>\n",
       "      <td>16709.0</td>\n",
       "      <td>for_sale</td>\n",
       "      <td>339900.0</td>\n",
       "      <td>2.0</td>\n",
       "      <td>2.0</td>\n",
       "      <td>0.11</td>\n",
       "      <td>893593.0</td>\n",
       "      <td>Avenel</td>\n",
       "      <td>New Jersey</td>\n",
       "      <td>7001.0</td>\n",
       "      <td>1456.0</td>\n",
       "      <td>1987-05-20</td>\n",
       "    </tr>\n",
       "    <tr>\n",
       "      <th>2</th>\n",
       "      <td>60594.0</td>\n",
       "      <td>for_sale</td>\n",
       "      <td>305100.0</td>\n",
       "      <td>3.0</td>\n",
       "      <td>2.0</td>\n",
       "      <td>0.14</td>\n",
       "      <td>169015.0</td>\n",
       "      <td>Avenel</td>\n",
       "      <td>New Jersey</td>\n",
       "      <td>7001.0</td>\n",
       "      <td>1542.0</td>\n",
       "      <td>2022-01-27</td>\n",
       "    </tr>\n",
       "    <tr>\n",
       "      <th>5</th>\n",
       "      <td>53550.0</td>\n",
       "      <td>for_sale</td>\n",
       "      <td>325000.0</td>\n",
       "      <td>3.0</td>\n",
       "      <td>3.0</td>\n",
       "      <td>0.15</td>\n",
       "      <td>1354688.0</td>\n",
       "      <td>Avenel</td>\n",
       "      <td>New Jersey</td>\n",
       "      <td>7001.0</td>\n",
       "      <td>1870.0</td>\n",
       "      <td>2002-12-17</td>\n",
       "    </tr>\n",
       "    <tr>\n",
       "      <th>8</th>\n",
       "      <td>81259.0</td>\n",
       "      <td>for_sale</td>\n",
       "      <td>440000.0</td>\n",
       "      <td>4.0</td>\n",
       "      <td>2.0</td>\n",
       "      <td>0.17</td>\n",
       "      <td>863208.0</td>\n",
       "      <td>Avenel</td>\n",
       "      <td>New Jersey</td>\n",
       "      <td>7001.0</td>\n",
       "      <td>1842.0</td>\n",
       "      <td>2015-11-23</td>\n",
       "    </tr>\n",
       "    <tr>\n",
       "      <th>10</th>\n",
       "      <td>48366.0</td>\n",
       "      <td>for_sale</td>\n",
       "      <td>399000.0</td>\n",
       "      <td>3.0</td>\n",
       "      <td>3.0</td>\n",
       "      <td>0.06</td>\n",
       "      <td>190536.0</td>\n",
       "      <td>Avenel</td>\n",
       "      <td>New Jersey</td>\n",
       "      <td>7001.0</td>\n",
       "      <td>1476.0</td>\n",
       "      <td>1990-02-28</td>\n",
       "    </tr>\n",
       "  </tbody>\n",
       "</table>\n",
       "</div>"
      ],
      "text/plain": [
       "    brokered_by    status     price  bed  bath  acre_lot     street    city  \\\n",
       "1       16709.0  for_sale  339900.0  2.0   2.0      0.11   893593.0  Avenel   \n",
       "2       60594.0  for_sale  305100.0  3.0   2.0      0.14   169015.0  Avenel   \n",
       "5       53550.0  for_sale  325000.0  3.0   3.0      0.15  1354688.0  Avenel   \n",
       "8       81259.0  for_sale  440000.0  4.0   2.0      0.17   863208.0  Avenel   \n",
       "10      48366.0  for_sale  399000.0  3.0   3.0      0.06   190536.0  Avenel   \n",
       "\n",
       "         state  zip_code  house_size prev_sold_date  \n",
       "1   New Jersey    7001.0      1456.0     1987-05-20  \n",
       "2   New Jersey    7001.0      1542.0     2022-01-27  \n",
       "5   New Jersey    7001.0      1870.0     2002-12-17  \n",
       "8   New Jersey    7001.0      1842.0     2015-11-23  \n",
       "10  New Jersey    7001.0      1476.0     1990-02-28  "
      ]
     },
     "execution_count": 8,
     "metadata": {},
     "output_type": "execute_result"
    }
   ],
   "source": [
    "state_df_cleaned.head()"
   ]
  },
  {
   "cell_type": "code",
   "execution_count": 9,
   "metadata": {},
   "outputs": [
    {
     "data": {
      "text/plain": [
       "{'for_sale', 'sold'}"
      ]
     },
     "execution_count": 9,
     "metadata": {},
     "output_type": "execute_result"
    }
   ],
   "source": [
    "set(state_df_cleaned['status'])"
   ]
  },
  {
   "cell_type": "code",
   "execution_count": 10,
   "metadata": {},
   "outputs": [],
   "source": [
    "sold_df = state_df_cleaned[state_df_cleaned['status'] == 'sold']"
   ]
  },
  {
   "cell_type": "code",
   "execution_count": 11,
   "metadata": {},
   "outputs": [
    {
     "data": {
      "text/html": [
       "<div>\n",
       "<style scoped>\n",
       "    .dataframe tbody tr th:only-of-type {\n",
       "        vertical-align: middle;\n",
       "    }\n",
       "\n",
       "    .dataframe tbody tr th {\n",
       "        vertical-align: top;\n",
       "    }\n",
       "\n",
       "    .dataframe thead th {\n",
       "        text-align: right;\n",
       "    }\n",
       "</style>\n",
       "<table border=\"1\" class=\"dataframe\">\n",
       "  <thead>\n",
       "    <tr style=\"text-align: right;\">\n",
       "      <th></th>\n",
       "      <th>brokered_by</th>\n",
       "      <th>status</th>\n",
       "      <th>price</th>\n",
       "      <th>bed</th>\n",
       "      <th>bath</th>\n",
       "      <th>acre_lot</th>\n",
       "      <th>street</th>\n",
       "      <th>city</th>\n",
       "      <th>state</th>\n",
       "      <th>zip_code</th>\n",
       "      <th>house_size</th>\n",
       "      <th>prev_sold_date</th>\n",
       "    </tr>\n",
       "  </thead>\n",
       "  <tbody>\n",
       "    <tr>\n",
       "      <th>33563</th>\n",
       "      <td>81259.0</td>\n",
       "      <td>sold</td>\n",
       "      <td>440000.0</td>\n",
       "      <td>4.0</td>\n",
       "      <td>2.0</td>\n",
       "      <td>0.17</td>\n",
       "      <td>863208.0</td>\n",
       "      <td>Avenel</td>\n",
       "      <td>New Jersey</td>\n",
       "      <td>7001.0</td>\n",
       "      <td>1842.0</td>\n",
       "      <td>2022-04-11</td>\n",
       "    </tr>\n",
       "    <tr>\n",
       "      <th>33566</th>\n",
       "      <td>53016.0</td>\n",
       "      <td>sold</td>\n",
       "      <td>385000.0</td>\n",
       "      <td>3.0</td>\n",
       "      <td>2.0</td>\n",
       "      <td>0.11</td>\n",
       "      <td>531675.0</td>\n",
       "      <td>Avenel</td>\n",
       "      <td>New Jersey</td>\n",
       "      <td>7001.0</td>\n",
       "      <td>968.0</td>\n",
       "      <td>2022-04-01</td>\n",
       "    </tr>\n",
       "    <tr>\n",
       "      <th>33567</th>\n",
       "      <td>51784.0</td>\n",
       "      <td>sold</td>\n",
       "      <td>479000.0</td>\n",
       "      <td>3.0</td>\n",
       "      <td>2.0</td>\n",
       "      <td>0.05</td>\n",
       "      <td>1089635.0</td>\n",
       "      <td>Bayonne</td>\n",
       "      <td>New Jersey</td>\n",
       "      <td>7002.0</td>\n",
       "      <td>1322.0</td>\n",
       "      <td>2022-04-12</td>\n",
       "    </tr>\n",
       "    <tr>\n",
       "      <th>33569</th>\n",
       "      <td>8149.0</td>\n",
       "      <td>sold</td>\n",
       "      <td>729000.0</td>\n",
       "      <td>5.0</td>\n",
       "      <td>3.0</td>\n",
       "      <td>0.10</td>\n",
       "      <td>893972.0</td>\n",
       "      <td>Bayonne</td>\n",
       "      <td>New Jersey</td>\n",
       "      <td>7002.0</td>\n",
       "      <td>2089.0</td>\n",
       "      <td>2022-03-07</td>\n",
       "    </tr>\n",
       "    <tr>\n",
       "      <th>33570</th>\n",
       "      <td>79122.0</td>\n",
       "      <td>sold</td>\n",
       "      <td>715000.0</td>\n",
       "      <td>6.0</td>\n",
       "      <td>5.0</td>\n",
       "      <td>0.06</td>\n",
       "      <td>1746025.0</td>\n",
       "      <td>Bayonne</td>\n",
       "      <td>New Jersey</td>\n",
       "      <td>7002.0</td>\n",
       "      <td>2500.0</td>\n",
       "      <td>2022-03-07</td>\n",
       "    </tr>\n",
       "  </tbody>\n",
       "</table>\n",
       "</div>"
      ],
      "text/plain": [
       "       brokered_by status     price  bed  bath  acre_lot     street     city  \\\n",
       "33563      81259.0   sold  440000.0  4.0   2.0      0.17   863208.0   Avenel   \n",
       "33566      53016.0   sold  385000.0  3.0   2.0      0.11   531675.0   Avenel   \n",
       "33567      51784.0   sold  479000.0  3.0   2.0      0.05  1089635.0  Bayonne   \n",
       "33569       8149.0   sold  729000.0  5.0   3.0      0.10   893972.0  Bayonne   \n",
       "33570      79122.0   sold  715000.0  6.0   5.0      0.06  1746025.0  Bayonne   \n",
       "\n",
       "            state  zip_code  house_size prev_sold_date  \n",
       "33563  New Jersey    7001.0      1842.0     2022-04-11  \n",
       "33566  New Jersey    7001.0       968.0     2022-04-01  \n",
       "33567  New Jersey    7002.0      1322.0     2022-04-12  \n",
       "33569  New Jersey    7002.0      2089.0     2022-03-07  \n",
       "33570  New Jersey    7002.0      2500.0     2022-03-07  "
      ]
     },
     "execution_count": 11,
     "metadata": {},
     "output_type": "execute_result"
    }
   ],
   "source": [
    "sold_df.head()"
   ]
  },
  {
   "cell_type": "code",
   "execution_count": 12,
   "metadata": {},
   "outputs": [
    {
     "data": {
      "text/plain": [
       "{'sold'}"
      ]
     },
     "execution_count": 12,
     "metadata": {},
     "output_type": "execute_result"
    }
   ],
   "source": [
    "set(sold_df['status'])"
   ]
  },
  {
   "cell_type": "code",
   "execution_count": 13,
   "metadata": {},
   "outputs": [
    {
     "name": "stderr",
     "output_type": "stream",
     "text": [
      "/var/folders/b8/466710_d78q31z8wgrvw2cc00000gn/T/ipykernel_34188/2220761013.py:1: SettingWithCopyWarning: \n",
      "A value is trying to be set on a copy of a slice from a DataFrame\n",
      "\n",
      "See the caveats in the documentation: https://pandas.pydata.org/pandas-docs/stable/user_guide/indexing.html#returning-a-view-versus-a-copy\n",
      "  sold_df.drop(['status','brokered_by'], axis=1, inplace=True)\n"
     ]
    }
   ],
   "source": [
    "sold_df.drop(['status','brokered_by'], axis=1, inplace=True)"
   ]
  },
  {
   "cell_type": "code",
   "execution_count": 14,
   "metadata": {},
   "outputs": [
    {
     "data": {
      "text/plain": [
       "Index(['price', 'bed', 'bath', 'acre_lot', 'street', 'city', 'state',\n",
       "       'zip_code', 'house_size', 'prev_sold_date'],\n",
       "      dtype='object')"
      ]
     },
     "execution_count": 14,
     "metadata": {},
     "output_type": "execute_result"
    }
   ],
   "source": [
    "sold_df.columns"
   ]
  },
  {
   "cell_type": "code",
   "execution_count": 15,
   "metadata": {},
   "outputs": [
    {
     "name": "stderr",
     "output_type": "stream",
     "text": [
      "/var/folders/b8/466710_d78q31z8wgrvw2cc00000gn/T/ipykernel_34188/499865651.py:1: SettingWithCopyWarning: \n",
      "A value is trying to be set on a copy of a slice from a DataFrame.\n",
      "Try using .loc[row_indexer,col_indexer] = value instead\n",
      "\n",
      "See the caveats in the documentation: https://pandas.pydata.org/pandas-docs/stable/user_guide/indexing.html#returning-a-view-versus-a-copy\n",
      "  sold_df['prev_sold_date'] = pd.to_datetime(sold_df['prev_sold_date'])\n"
     ]
    }
   ],
   "source": [
    "sold_df['prev_sold_date'] = pd.to_datetime(sold_df['prev_sold_date'])"
   ]
  },
  {
   "cell_type": "code",
   "execution_count": 16,
   "metadata": {},
   "outputs": [
    {
     "name": "stderr",
     "output_type": "stream",
     "text": [
      "/var/folders/b8/466710_d78q31z8wgrvw2cc00000gn/T/ipykernel_34188/914261620.py:1: SettingWithCopyWarning: \n",
      "A value is trying to be set on a copy of a slice from a DataFrame\n",
      "\n",
      "See the caveats in the documentation: https://pandas.pydata.org/pandas-docs/stable/user_guide/indexing.html#returning-a-view-versus-a-copy\n",
      "  sold_df.dropna(inplace=True)\n"
     ]
    }
   ],
   "source": [
    "sold_df.dropna(inplace=True)"
   ]
  },
  {
   "cell_type": "code",
   "execution_count": 17,
   "metadata": {},
   "outputs": [
    {
     "data": {
      "text/plain": [
       "33563    2022-04-11\n",
       "33566    2022-04-01\n",
       "33567    2022-04-12\n",
       "33569    2022-03-07\n",
       "33570    2022-03-07\n",
       "            ...    \n",
       "385587   2021-12-30\n",
       "385588   2022-01-21\n",
       "385589   2021-11-17\n",
       "385590   2022-02-01\n",
       "385591   2022-02-15\n",
       "Name: prev_sold_date, Length: 53472, dtype: datetime64[ns]"
      ]
     },
     "execution_count": 17,
     "metadata": {},
     "output_type": "execute_result"
    }
   ],
   "source": [
    "sold_df['prev_sold_date']"
   ]
  },
  {
   "cell_type": "code",
   "execution_count": 18,
   "metadata": {},
   "outputs": [],
   "source": [
    "#adding a new column 'previous_listed_date' to the dataframe\n",
    "sold_df=sold_df.assign(prev_listed_date = sold_df['prev_sold_date'].shift(1))  "
   ]
  },
  {
   "cell_type": "code",
   "execution_count": 19,
   "metadata": {},
   "outputs": [
    {
     "data": {
      "text/plain": [
       "33563           NaT\n",
       "33566    2022-04-11\n",
       "33567    2022-04-01\n",
       "33569    2022-04-12\n",
       "33570    2022-03-07\n",
       "            ...    \n",
       "385587   2021-10-28\n",
       "385588   2021-12-30\n",
       "385589   2022-01-21\n",
       "385590   2021-11-17\n",
       "385591   2022-02-01\n",
       "Name: prev_listed_date, Length: 53472, dtype: datetime64[ns]"
      ]
     },
     "execution_count": 19,
     "metadata": {},
     "output_type": "execute_result"
    }
   ],
   "source": [
    "sold_df['prev_listed_date']"
   ]
  },
  {
   "cell_type": "code",
   "execution_count": 20,
   "metadata": {},
   "outputs": [],
   "source": [
    "#here we add the number of days the property was listed for\n",
    "sold_df['days_listed'] = sold_df['prev_sold_date'] - sold_df['prev_listed_date']"
   ]
  },
  {
   "cell_type": "code",
   "execution_count": 21,
   "metadata": {},
   "outputs": [
    {
     "data": {
      "text/plain": [
       "33563         NaT\n",
       "33566    -10 days\n",
       "33567     11 days\n",
       "33569    -36 days\n",
       "33570      0 days\n",
       "           ...   \n",
       "385587    63 days\n",
       "385588    22 days\n",
       "385589   -65 days\n",
       "385590    76 days\n",
       "385591    14 days\n",
       "Name: days_listed, Length: 53472, dtype: timedelta64[ns]"
      ]
     },
     "execution_count": 21,
     "metadata": {},
     "output_type": "execute_result"
    }
   ],
   "source": [
    "sold_df['days_listed']"
   ]
  },
  {
   "cell_type": "code",
   "execution_count": 22,
   "metadata": {},
   "outputs": [],
   "source": [
    "sold_df.dropna(inplace=True)"
   ]
  },
  {
   "cell_type": "code",
   "execution_count": 23,
   "metadata": {},
   "outputs": [],
   "source": [
    "sold_df['days_listed'] = sold_df['days_listed'].abs()"
   ]
  },
  {
   "cell_type": "code",
   "execution_count": 24,
   "metadata": {},
   "outputs": [
    {
     "data": {
      "text/plain": [
       "33566    10 days\n",
       "33567    11 days\n",
       "33569    36 days\n",
       "33570     0 days\n",
       "33571    36 days\n",
       "           ...  \n",
       "385587   63 days\n",
       "385588   22 days\n",
       "385589   65 days\n",
       "385590   76 days\n",
       "385591   14 days\n",
       "Name: days_listed, Length: 53471, dtype: timedelta64[ns]"
      ]
     },
     "execution_count": 24,
     "metadata": {},
     "output_type": "execute_result"
    }
   ],
   "source": [
    "sold_df['days_listed']"
   ]
  },
  {
   "cell_type": "code",
   "execution_count": 25,
   "metadata": {},
   "outputs": [],
   "source": [
    "X=sold_df.drop(['days_listed','prev_sold_date','prev_listed_date'], axis=1)\n",
    "y=pd.to_numeric(sold_df['days_listed'])"
   ]
  },
  {
   "cell_type": "code",
   "execution_count": 26,
   "metadata": {},
   "outputs": [
    {
     "data": {
      "text/plain": [
       "Index(['price', 'bed', 'bath', 'acre_lot', 'street', 'city', 'state',\n",
       "       'zip_code', 'house_size'],\n",
       "      dtype='object')"
      ]
     },
     "execution_count": 26,
     "metadata": {},
     "output_type": "execute_result"
    }
   ],
   "source": [
    "X.columns"
   ]
  },
  {
   "cell_type": "code",
   "execution_count": 27,
   "metadata": {},
   "outputs": [],
   "source": [
    "X_train, X_test, y_train, y_test = train_test_split(X, y, test_size=0.2, random_state=42)\n",
    "numerical_features = ['bed', 'bath', 'acre_lot', 'house_size','zip_code','street','price']\n",
    "categorical_features = ['city', 'state']\n",
    "numerical_transformer = StandardScaler()\n",
    "categorical_transformer = OneHotEncoder()\n",
    "preprocessor = ColumnTransformer(\n",
    "    transformers=[\n",
    "        ('num', numerical_transformer, numerical_features),\n",
    "        ('cat', categorical_transformer, categorical_features)\n",
    "    ])\n",
    "pipeline = Pipeline(steps=[('preprocessor', preprocessor)])\n",
    "X_train_preprocessed = pipeline.fit_transform(X_train)\n",
    "X_test_preprocessed = pipeline.transform(X_test)"
   ]
  },
  {
   "cell_type": "code",
   "execution_count": 28,
   "metadata": {},
   "outputs": [
    {
     "name": "stderr",
     "output_type": "stream",
     "text": [
      "/Library/Frameworks/Python.framework/Versions/3.12/lib/python3.12/site-packages/keras/src/layers/core/dense.py:87: UserWarning: Do not pass an `input_shape`/`input_dim` argument to a layer. When using Sequential models, prefer using an `Input(shape)` object as the first layer in the model instead.\n",
      "  super().__init__(activity_regularizer=activity_regularizer, **kwargs)\n"
     ]
    }
   ],
   "source": [
    "model = Sequential()\n",
    "model.add(Dense(64, activation='relu', input_shape=(X_train_preprocessed.shape[1],)))\n",
    "model.add(Dense(32, activation='relu'))\n",
    "model.add(Dense(1))  # Output layer with a single neuron for regression\n",
    "\n",
    "model.compile(optimizer='adam', loss='mean_squared_error')\n",
    "\n"
   ]
  },
  {
   "cell_type": "code",
   "execution_count": 29,
   "metadata": {},
   "outputs": [
    {
     "name": "stdout",
     "output_type": "stream",
     "text": [
      "Epoch 1/100\n",
      "\u001b[1m1070/1070\u001b[0m \u001b[32m━━━━━━━━━━━━━━━━━━━━\u001b[0m\u001b[37m\u001b[0m \u001b[1m1s\u001b[0m 719us/step - loss: 654689630230151168.0000 - val_loss: 686661023184191488.0000\n",
      "Epoch 2/100\n",
      "\u001b[1m1070/1070\u001b[0m \u001b[32m━━━━━━━━━━━━━━━━━━━━\u001b[0m\u001b[37m\u001b[0m \u001b[1m1s\u001b[0m 690us/step - loss: 665073967798681600.0000 - val_loss: 686645080265588736.0000\n",
      "Epoch 3/100\n",
      "\u001b[1m1070/1070\u001b[0m \u001b[32m━━━━━━━━━━━━━━━━━━━━\u001b[0m\u001b[37m\u001b[0m \u001b[1m1s\u001b[0m 730us/step - loss: 647103618473787392.0000 - val_loss: 686610995405127680.0000\n",
      "Epoch 4/100\n",
      "\u001b[1m1070/1070\u001b[0m \u001b[32m━━━━━━━━━━━━━━━━━━━━\u001b[0m\u001b[37m\u001b[0m \u001b[1m1s\u001b[0m 672us/step - loss: 655340953430654976.0000 - val_loss: 686555332628971520.0000\n",
      "Epoch 5/100\n",
      "\u001b[1m1070/1070\u001b[0m \u001b[32m━━━━━━━━━━━━━━━━━━━━\u001b[0m\u001b[37m\u001b[0m \u001b[1m1s\u001b[0m 614us/step - loss: 652861142393159680.0000 - val_loss: 686474037487992832.0000\n",
      "Epoch 6/100\n",
      "\u001b[1m1070/1070\u001b[0m \u001b[32m━━━━━━━━━━━━━━━━━━━━\u001b[0m\u001b[37m\u001b[0m \u001b[1m1s\u001b[0m 643us/step - loss: 657630411517591552.0000 - val_loss: 686366697665331200.0000\n",
      "Epoch 7/100\n",
      "\u001b[1m1070/1070\u001b[0m \u001b[32m━━━━━━━━━━━━━━━━━━━━\u001b[0m\u001b[37m\u001b[0m \u001b[1m1s\u001b[0m 679us/step - loss: 645177961296691200.0000 - val_loss: 686228090480754688.0000\n",
      "Epoch 8/100\n",
      "\u001b[1m1070/1070\u001b[0m \u001b[32m━━━━━━━━━━━━━━━━━━━━\u001b[0m\u001b[37m\u001b[0m \u001b[1m1s\u001b[0m 701us/step - loss: 657812518130941952.0000 - val_loss: 686060483676995584.0000\n",
      "Epoch 9/100\n",
      "\u001b[1m1070/1070\u001b[0m \u001b[32m━━━━━━━━━━━━━━━━━━━━\u001b[0m\u001b[37m\u001b[0m \u001b[1m1s\u001b[0m 642us/step - loss: 645728885341683712.0000 - val_loss: 685863464937193472.0000\n",
      "Epoch 10/100\n",
      "\u001b[1m1070/1070\u001b[0m \u001b[32m━━━━━━━━━━━━━━━━━━━━\u001b[0m\u001b[37m\u001b[0m \u001b[1m1s\u001b[0m 698us/step - loss: 653186597834981376.0000 - val_loss: 685631467983732736.0000\n",
      "Epoch 11/100\n",
      "\u001b[1m1070/1070\u001b[0m \u001b[32m━━━━━━━━━━━━━━━━━━━━\u001b[0m\u001b[37m\u001b[0m \u001b[1m1s\u001b[0m 536us/step - loss: 645038666917347328.0000 - val_loss: 685362362512834560.0000\n",
      "Epoch 12/100\n",
      "\u001b[1m1070/1070\u001b[0m \u001b[32m━━━━━━━━━━━━━━━━━━━━\u001b[0m\u001b[37m\u001b[0m \u001b[1m1s\u001b[0m 632us/step - loss: 656913529936281600.0000 - val_loss: 685057454194556928.0000\n",
      "Epoch 13/100\n",
      "\u001b[1m1070/1070\u001b[0m \u001b[32m━━━━━━━━━━━━━━━━━━━━\u001b[0m\u001b[37m\u001b[0m \u001b[1m1s\u001b[0m 652us/step - loss: 648278240489635840.0000 - val_loss: 684717636382097408.0000\n",
      "Epoch 14/100\n",
      "\u001b[1m1070/1070\u001b[0m \u001b[32m━━━━━━━━━━━━━━━━━━━━\u001b[0m\u001b[37m\u001b[0m \u001b[1m1s\u001b[0m 551us/step - loss: 644773890773483520.0000 - val_loss: 684328271826911232.0000\n",
      "Epoch 15/100\n",
      "\u001b[1m1070/1070\u001b[0m \u001b[32m━━━━━━━━━━━━━━━━━━━━\u001b[0m\u001b[37m\u001b[0m \u001b[1m1s\u001b[0m 565us/step - loss: 659933888377782272.0000 - val_loss: 683898843816787968.0000\n",
      "Epoch 16/100\n",
      "\u001b[1m1070/1070\u001b[0m \u001b[32m━━━━━━━━━━━━━━━━━━━━\u001b[0m\u001b[37m\u001b[0m \u001b[1m1s\u001b[0m 642us/step - loss: 651051896009654272.0000 - val_loss: 683427496925855744.0000\n",
      "Epoch 17/100\n",
      "\u001b[1m1070/1070\u001b[0m \u001b[32m━━━━━━━━━━━━━━━━━━━━\u001b[0m\u001b[37m\u001b[0m \u001b[1m1s\u001b[0m 599us/step - loss: 646668211869188096.0000 - val_loss: 682918904078532608.0000\n",
      "Epoch 18/100\n",
      "\u001b[1m1070/1070\u001b[0m \u001b[32m━━━━━━━━━━━━━━━━━━━━\u001b[0m\u001b[37m\u001b[0m \u001b[1m1s\u001b[0m 605us/step - loss: 654593835279581184.0000 - val_loss: 682373889908539392.0000\n",
      "Epoch 19/100\n",
      "\u001b[1m1070/1070\u001b[0m \u001b[32m━━━━━━━━━━━━━━━━━━━━\u001b[0m\u001b[37m\u001b[0m \u001b[1m1s\u001b[0m 551us/step - loss: 659627811828400128.0000 - val_loss: 681786544540876800.0000\n",
      "Epoch 20/100\n",
      "\u001b[1m1070/1070\u001b[0m \u001b[32m━━━━━━━━━━━━━━━━━━━━\u001b[0m\u001b[37m\u001b[0m \u001b[1m1s\u001b[0m 576us/step - loss: 650726715445739520.0000 - val_loss: 681160510107811840.0000\n",
      "Epoch 21/100\n",
      "\u001b[1m1070/1070\u001b[0m \u001b[32m━━━━━━━━━━━━━━━━━━━━\u001b[0m\u001b[37m\u001b[0m \u001b[1m1s\u001b[0m 638us/step - loss: 642432412042657792.0000 - val_loss: 680498604107890688.0000\n",
      "Epoch 22/100\n",
      "\u001b[1m1070/1070\u001b[0m \u001b[32m━━━━━━━━━━━━━━━━━━━━\u001b[0m\u001b[37m\u001b[0m \u001b[1m1s\u001b[0m 611us/step - loss: 649629265402265600.0000 - val_loss: 679807148732973056.0000\n",
      "Epoch 23/100\n",
      "\u001b[1m1070/1070\u001b[0m \u001b[32m━━━━━━━━━━━━━━━━━━━━\u001b[0m\u001b[37m\u001b[0m \u001b[1m1s\u001b[0m 659us/step - loss: 656702011386888192.0000 - val_loss: 679090404590616576.0000\n",
      "Epoch 24/100\n",
      "\u001b[1m1070/1070\u001b[0m \u001b[32m━━━━━━━━━━━━━━━━━━━━\u001b[0m\u001b[37m\u001b[0m \u001b[1m1s\u001b[0m 719us/step - loss: 655617549324517376.0000 - val_loss: 678326793765126144.0000\n",
      "Epoch 25/100\n",
      "\u001b[1m1070/1070\u001b[0m \u001b[32m━━━━━━━━━━━━━━━━━━━━\u001b[0m\u001b[37m\u001b[0m \u001b[1m1s\u001b[0m 671us/step - loss: 649164171983716352.0000 - val_loss: 677542704535568384.0000\n",
      "Epoch 26/100\n",
      "\u001b[1m1070/1070\u001b[0m \u001b[32m━━━━━━━━━━━━━━━━━━━━\u001b[0m\u001b[37m\u001b[0m \u001b[1m1s\u001b[0m 606us/step - loss: 656805983955189760.0000 - val_loss: 676719445204271104.0000\n",
      "Epoch 27/100\n",
      "\u001b[1m1070/1070\u001b[0m \u001b[32m━━━━━━━━━━━━━━━━━━━━\u001b[0m\u001b[37m\u001b[0m \u001b[1m1s\u001b[0m 611us/step - loss: 643205025119600640.0000 - val_loss: 675886084109893632.0000\n",
      "Epoch 28/100\n",
      "\u001b[1m1070/1070\u001b[0m \u001b[32m━━━━━━━━━━━━━━━━━━━━\u001b[0m\u001b[37m\u001b[0m \u001b[1m1s\u001b[0m 629us/step - loss: 648296863467831296.0000 - val_loss: 675034993390518272.0000\n",
      "Epoch 29/100\n",
      "\u001b[1m1070/1070\u001b[0m \u001b[32m━━━━━━━━━━━━━━━━━━━━\u001b[0m\u001b[37m\u001b[0m \u001b[1m1s\u001b[0m 622us/step - loss: 644028971645665280.0000 - val_loss: 674175793772888064.0000\n",
      "Epoch 30/100\n",
      "\u001b[1m1070/1070\u001b[0m \u001b[32m━━━━━━━━━━━━━━━━━━━━\u001b[0m\u001b[37m\u001b[0m \u001b[1m1s\u001b[0m 560us/step - loss: 649069820142157824.0000 - val_loss: 673314670009909248.0000\n",
      "Epoch 31/100\n",
      "\u001b[1m1070/1070\u001b[0m \u001b[32m━━━━━━━━━━━━━━━━━━━━\u001b[0m\u001b[37m\u001b[0m \u001b[1m1s\u001b[0m 664us/step - loss: 639972735811846144.0000 - val_loss: 672450660028907520.0000\n",
      "Epoch 32/100\n",
      "\u001b[1m1070/1070\u001b[0m \u001b[32m━━━━━━━━━━━━━━━━━━━━\u001b[0m\u001b[37m\u001b[0m \u001b[1m1s\u001b[0m 633us/step - loss: 644382670792425472.0000 - val_loss: 671600874979590144.0000\n",
      "Epoch 33/100\n",
      "\u001b[1m1070/1070\u001b[0m \u001b[32m━━━━━━━━━━━━━━━━━━━━\u001b[0m\u001b[37m\u001b[0m \u001b[1m1s\u001b[0m 602us/step - loss: 644605047019143168.0000 - val_loss: 670749028345970688.0000\n",
      "Epoch 34/100\n",
      "\u001b[1m1070/1070\u001b[0m \u001b[32m━━━━━━━━━━━━━━━━━━━━\u001b[0m\u001b[37m\u001b[0m \u001b[1m1s\u001b[0m 646us/step - loss: 647257687540629504.0000 - val_loss: 669895807322816512.0000\n",
      "Epoch 35/100\n",
      "\u001b[1m1070/1070\u001b[0m \u001b[32m━━━━━━━━━━━━━━━━━━━━\u001b[0m\u001b[37m\u001b[0m \u001b[1m1s\u001b[0m 588us/step - loss: 639404906775576576.0000 - val_loss: 669081412804018176.0000\n",
      "Epoch 36/100\n",
      "\u001b[1m1070/1070\u001b[0m \u001b[32m━━━━━━━━━━━━━━━━━━━━\u001b[0m\u001b[37m\u001b[0m \u001b[1m1s\u001b[0m 618us/step - loss: 637133590630498304.0000 - val_loss: 668274165110800384.0000\n",
      "Epoch 37/100\n",
      "\u001b[1m1070/1070\u001b[0m \u001b[32m━━━━━━━━━━━━━━━━━━━━\u001b[0m\u001b[37m\u001b[0m \u001b[1m1s\u001b[0m 604us/step - loss: 633623124880916480.0000 - val_loss: 667495573439381504.0000\n",
      "Epoch 38/100\n",
      "\u001b[1m1070/1070\u001b[0m \u001b[32m━━━━━━━━━━━━━━━━━━━━\u001b[0m\u001b[37m\u001b[0m \u001b[1m1s\u001b[0m 592us/step - loss: 640594166039969792.0000 - val_loss: 666746737301389312.0000\n",
      "Epoch 39/100\n",
      "\u001b[1m1070/1070\u001b[0m \u001b[32m━━━━━━━━━━━━━━━━━━━━\u001b[0m\u001b[37m\u001b[0m \u001b[1m1s\u001b[0m 627us/step - loss: 642013085795614720.0000 - val_loss: 666024289442463744.0000\n",
      "Epoch 40/100\n",
      "\u001b[1m1070/1070\u001b[0m \u001b[32m━━━━━━━━━━━━━━━━━━━━\u001b[0m\u001b[37m\u001b[0m \u001b[1m1s\u001b[0m 634us/step - loss: 639450742666559488.0000 - val_loss: 665325481083535360.0000\n",
      "Epoch 41/100\n",
      "\u001b[1m1070/1070\u001b[0m \u001b[32m━━━━━━━━━━━━━━━━━━━━\u001b[0m\u001b[37m\u001b[0m \u001b[1m1s\u001b[0m 605us/step - loss: 639644600310431744.0000 - val_loss: 664657459050184704.0000\n",
      "Epoch 42/100\n",
      "\u001b[1m1070/1070\u001b[0m \u001b[32m━━━━━━━━━━━━━━━━━━━━\u001b[0m\u001b[37m\u001b[0m \u001b[1m1s\u001b[0m 623us/step - loss: 639267742700011520.0000 - val_loss: 664011839566249984.0000\n",
      "Epoch 43/100\n",
      "\u001b[1m1070/1070\u001b[0m \u001b[32m━━━━━━━━━━━━━━━━━━━━\u001b[0m\u001b[37m\u001b[0m \u001b[1m1s\u001b[0m 625us/step - loss: 636433201723604992.0000 - val_loss: 663424906515447808.0000\n",
      "Epoch 44/100\n",
      "\u001b[1m1070/1070\u001b[0m \u001b[32m━━━━━━━━━━━━━━━━━━━━\u001b[0m\u001b[37m\u001b[0m \u001b[1m1s\u001b[0m 600us/step - loss: 643082292134150144.0000 - val_loss: 662866629486444544.0000\n",
      "Epoch 45/100\n",
      "\u001b[1m1070/1070\u001b[0m \u001b[32m━━━━━━━━━━━━━━━━━━━━\u001b[0m\u001b[37m\u001b[0m \u001b[1m1s\u001b[0m 542us/step - loss: 621264339306807296.0000 - val_loss: 662344498902204416.0000\n",
      "Epoch 46/100\n",
      "\u001b[1m1070/1070\u001b[0m \u001b[32m━━━━━━━━━━━━━━━━━━━━\u001b[0m\u001b[37m\u001b[0m \u001b[1m1s\u001b[0m 531us/step - loss: 618873451272208384.0000 - val_loss: 661849924828135424.0000\n",
      "Epoch 47/100\n",
      "\u001b[1m1070/1070\u001b[0m \u001b[32m━━━━━━━━━━━━━━━━━━━━\u001b[0m\u001b[37m\u001b[0m \u001b[1m1s\u001b[0m 598us/step - loss: 642223573552857088.0000 - val_loss: 661407096520048640.0000\n",
      "Epoch 48/100\n",
      "\u001b[1m1070/1070\u001b[0m \u001b[32m━━━━━━━━━━━━━━━━━━━━\u001b[0m\u001b[37m\u001b[0m \u001b[1m1s\u001b[0m 615us/step - loss: 634557160008712192.0000 - val_loss: 660987495395098624.0000\n",
      "Epoch 49/100\n",
      "\u001b[1m1070/1070\u001b[0m \u001b[32m━━━━━━━━━━━━━━━━━━━━\u001b[0m\u001b[37m\u001b[0m \u001b[1m1s\u001b[0m 541us/step - loss: 630359843089154048.0000 - val_loss: 660604865348632576.0000\n",
      "Epoch 50/100\n",
      "\u001b[1m1070/1070\u001b[0m \u001b[32m━━━━━━━━━━━━━━━━━━━━\u001b[0m\u001b[37m\u001b[0m \u001b[1m1s\u001b[0m 520us/step - loss: 636254874681475072.0000 - val_loss: 660248142544896000.0000\n",
      "Epoch 51/100\n",
      "\u001b[1m1070/1070\u001b[0m \u001b[32m━━━━━━━━━━━━━━━━━━━━\u001b[0m\u001b[37m\u001b[0m \u001b[1m1s\u001b[0m 520us/step - loss: 636039920158244864.0000 - val_loss: 659916433630691328.0000\n",
      "Epoch 52/100\n",
      "\u001b[1m1070/1070\u001b[0m \u001b[32m━━━━━━━━━━━━━━━━━━━━\u001b[0m\u001b[37m\u001b[0m \u001b[1m1s\u001b[0m 635us/step - loss: 634590969991266304.0000 - val_loss: 659611662751367168.0000\n",
      "Epoch 53/100\n",
      "\u001b[1m1070/1070\u001b[0m \u001b[32m━━━━━━━━━━━━━━━━━━━━\u001b[0m\u001b[37m\u001b[0m \u001b[1m1s\u001b[0m 522us/step - loss: 624175021463437312.0000 - val_loss: 659339945940353024.0000\n",
      "Epoch 54/100\n",
      "\u001b[1m1070/1070\u001b[0m \u001b[32m━━━━━━━━━━━━━━━━━━━━\u001b[0m\u001b[37m\u001b[0m \u001b[1m1s\u001b[0m 584us/step - loss: 624539234690138112.0000 - val_loss: 659085546437476352.0000\n",
      "Epoch 55/100\n",
      "\u001b[1m1070/1070\u001b[0m \u001b[32m━━━━━━━━━━━━━━━━━━━━\u001b[0m\u001b[37m\u001b[0m \u001b[1m1s\u001b[0m 596us/step - loss: 624301671459061760.0000 - val_loss: 658848189364830208.0000\n",
      "Epoch 56/100\n",
      "\u001b[1m1070/1070\u001b[0m \u001b[32m━━━━━━━━━━━━━━━━━━━━\u001b[0m\u001b[37m\u001b[0m \u001b[1m1s\u001b[0m 576us/step - loss: 638572164156489728.0000 - val_loss: 658630623501484032.0000\n",
      "Epoch 57/100\n",
      "\u001b[1m1070/1070\u001b[0m \u001b[32m━━━━━━━━━━━━━━━━━━━━\u001b[0m\u001b[37m\u001b[0m \u001b[1m1s\u001b[0m 605us/step - loss: 616589971779747840.0000 - val_loss: 658440476709355520.0000\n",
      "Epoch 58/100\n",
      "\u001b[1m1070/1070\u001b[0m \u001b[32m━━━━━━━━━━━━━━━━━━━━\u001b[0m\u001b[37m\u001b[0m \u001b[1m1s\u001b[0m 597us/step - loss: 631331399051247616.0000 - val_loss: 658257751620714496.0000\n",
      "Epoch 59/100\n",
      "\u001b[1m1070/1070\u001b[0m \u001b[32m━━━━━━━━━━━━━━━━━━━━\u001b[0m\u001b[37m\u001b[0m \u001b[1m1s\u001b[0m 558us/step - loss: 626410672200089600.0000 - val_loss: 658091175609106432.0000\n",
      "Epoch 60/100\n",
      "\u001b[1m1070/1070\u001b[0m \u001b[32m━━━━━━━━━━━━━━━━━━━━\u001b[0m\u001b[37m\u001b[0m \u001b[1m1s\u001b[0m 594us/step - loss: 621820554751508480.0000 - val_loss: 657931952581509120.0000\n",
      "Epoch 61/100\n",
      "\u001b[1m1070/1070\u001b[0m \u001b[32m━━━━━━━━━━━━━━━━━━━━\u001b[0m\u001b[37m\u001b[0m \u001b[1m1s\u001b[0m 580us/step - loss: 630813872671948800.0000 - val_loss: 657786129851875328.0000\n",
      "Epoch 62/100\n",
      "\u001b[1m1070/1070\u001b[0m \u001b[32m━━━━━━━━━━━━━━━━━━━━\u001b[0m\u001b[37m\u001b[0m \u001b[1m1s\u001b[0m 571us/step - loss: 630218830722891776.0000 - val_loss: 657647041630961664.0000\n",
      "Epoch 63/100\n",
      "\u001b[1m1070/1070\u001b[0m \u001b[32m━━━━━━━━━━━━━━━━━━━━\u001b[0m\u001b[37m\u001b[0m \u001b[1m1s\u001b[0m 598us/step - loss: 626955548931129344.0000 - val_loss: 657515787430395904.0000\n",
      "Epoch 64/100\n",
      "\u001b[1m1070/1070\u001b[0m \u001b[32m━━━━━━━━━━━━━━━━━━━━\u001b[0m\u001b[37m\u001b[0m \u001b[1m1s\u001b[0m 585us/step - loss: 631493645735821312.0000 - val_loss: 657396215540875264.0000\n",
      "Epoch 65/100\n",
      "\u001b[1m1070/1070\u001b[0m \u001b[32m━━━━━━━━━━━━━━━━━━━━\u001b[0m\u001b[37m\u001b[0m \u001b[1m1s\u001b[0m 541us/step - loss: 631495638600646656.0000 - val_loss: 657282416087400448.0000\n",
      "Epoch 66/100\n",
      "\u001b[1m1070/1070\u001b[0m \u001b[32m━━━━━━━━━━━━━━━━━━━━\u001b[0m\u001b[37m\u001b[0m \u001b[1m1s\u001b[0m 544us/step - loss: 628386013558865920.0000 - val_loss: 657174045472587776.0000\n",
      "Epoch 67/100\n",
      "\u001b[1m1070/1070\u001b[0m \u001b[32m━━━━━━━━━━━━━━━━━━━━\u001b[0m\u001b[37m\u001b[0m \u001b[1m1s\u001b[0m 592us/step - loss: 625948258841133056.0000 - val_loss: 657073371439169536.0000\n",
      "Epoch 68/100\n",
      "\u001b[1m1070/1070\u001b[0m \u001b[32m━━━━━━━━━━━━━━━━━━━━\u001b[0m\u001b[37m\u001b[0m \u001b[1m1s\u001b[0m 589us/step - loss: 632380745461006336.0000 - val_loss: 656975514904297472.0000\n",
      "Epoch 69/100\n",
      "\u001b[1m1070/1070\u001b[0m \u001b[32m━━━━━━━━━━━━━━━━━━━━\u001b[0m\u001b[37m\u001b[0m \u001b[1m1s\u001b[0m 592us/step - loss: 618958388545454080.0000 - val_loss: 656883155927564288.0000\n",
      "Epoch 70/100\n",
      "\u001b[1m1070/1070\u001b[0m \u001b[32m━━━━━━━━━━━━━━━━━━━━\u001b[0m\u001b[37m\u001b[0m \u001b[1m1s\u001b[0m 587us/step - loss: 630612318446682112.0000 - val_loss: 656792995974086656.0000\n",
      "Epoch 71/100\n",
      "\u001b[1m1070/1070\u001b[0m \u001b[32m━━━━━━━━━━━━━━━━━━━━\u001b[0m\u001b[37m\u001b[0m \u001b[1m1s\u001b[0m 600us/step - loss: 637674138034503680.0000 - val_loss: 656703660654329856.0000\n",
      "Epoch 72/100\n",
      "\u001b[1m1070/1070\u001b[0m \u001b[32m━━━━━━━━━━━━━━━━━━━━\u001b[0m\u001b[37m\u001b[0m \u001b[1m1s\u001b[0m 611us/step - loss: 617860457465643008.0000 - val_loss: 656618311064223744.0000\n",
      "Epoch 73/100\n",
      "\u001b[1m1070/1070\u001b[0m \u001b[32m━━━━━━━━━━━━━━━━━━━━\u001b[0m\u001b[37m\u001b[0m \u001b[1m1s\u001b[0m 525us/step - loss: 634492907297964032.0000 - val_loss: 656536328728477696.0000\n",
      "Epoch 74/100\n",
      "\u001b[1m1070/1070\u001b[0m \u001b[32m━━━━━━━━━━━━━━━━━━━━\u001b[0m\u001b[37m\u001b[0m \u001b[1m1s\u001b[0m 591us/step - loss: 630654993241735168.0000 - val_loss: 656457232610754560.0000\n",
      "Epoch 75/100\n",
      "\u001b[1m1070/1070\u001b[0m \u001b[32m━━━━━━━━━━━━━━━━━━━━\u001b[0m\u001b[37m\u001b[0m \u001b[1m1s\u001b[0m 578us/step - loss: 633330586068451328.0000 - val_loss: 656379442163089408.0000\n",
      "Epoch 76/100\n",
      "\u001b[1m1070/1070\u001b[0m \u001b[32m━━━━━━━━━━━━━━━━━━━━\u001b[0m\u001b[37m\u001b[0m \u001b[1m1s\u001b[0m 1ms/step - loss: 624093726322458624.0000 - val_loss: 656304881530830848.0000\n",
      "Epoch 77/100\n",
      "\u001b[1m1070/1070\u001b[0m \u001b[32m━━━━━━━━━━━━━━━━━━━━\u001b[0m\u001b[37m\u001b[0m \u001b[1m1s\u001b[0m 591us/step - loss: 617318260794195968.0000 - val_loss: 656228534192177152.0000\n",
      "Epoch 78/100\n",
      "\u001b[1m1070/1070\u001b[0m \u001b[32m━━━━━━━━━━━━━━━━━━━━\u001b[0m\u001b[37m\u001b[0m \u001b[1m1s\u001b[0m 604us/step - loss: 634066502944817152.0000 - val_loss: 656155004352069632.0000\n",
      "Epoch 79/100\n",
      "\u001b[1m1070/1070\u001b[0m \u001b[32m━━━━━━━━━━━━━━━━━━━━\u001b[0m\u001b[37m\u001b[0m \u001b[1m1s\u001b[0m 589us/step - loss: 632306322267701248.0000 - val_loss: 656082711462543360.0000\n",
      "Epoch 80/100\n",
      "\u001b[1m1070/1070\u001b[0m \u001b[32m━━━━━━━━━━━━━━━━━━━━\u001b[0m\u001b[37m\u001b[0m \u001b[1m1s\u001b[0m 541us/step - loss: 624827719053475840.0000 - val_loss: 656010693450924032.0000\n",
      "Epoch 81/100\n",
      "\u001b[1m1070/1070\u001b[0m \u001b[32m━━━━━━━━━━━━━━━━━━━━\u001b[0m\u001b[37m\u001b[0m \u001b[1m1s\u001b[0m 540us/step - loss: 627871373397590016.0000 - val_loss: 655942111413141504.0000\n",
      "Epoch 82/100\n",
      "\u001b[1m1070/1070\u001b[0m \u001b[32m━━━━━━━━━━━━━━━━━━━━\u001b[0m\u001b[37m\u001b[0m \u001b[1m1s\u001b[0m 578us/step - loss: 635175429140905984.0000 - val_loss: 655870505718382592.0000\n",
      "Epoch 83/100\n",
      "\u001b[1m1070/1070\u001b[0m \u001b[32m━━━━━━━━━━━━━━━━━━━━\u001b[0m\u001b[37m\u001b[0m \u001b[1m1s\u001b[0m 523us/step - loss: 636389496136400896.0000 - val_loss: 655799724657344512.0000\n",
      "Epoch 84/100\n",
      "\u001b[1m1070/1070\u001b[0m \u001b[32m━━━━━━━━━━━━━━━━━━━━\u001b[0m\u001b[37m\u001b[0m \u001b[1m1s\u001b[0m 584us/step - loss: 622635980062457856.0000 - val_loss: 655731417497468928.0000\n",
      "Epoch 85/100\n",
      "\u001b[1m1070/1070\u001b[0m \u001b[32m━━━━━━━━━━━━━━━━━━━━\u001b[0m\u001b[37m\u001b[0m \u001b[1m1s\u001b[0m 670us/step - loss: 619895035013365760.0000 - val_loss: 655665927836139520.0000\n",
      "Epoch 86/100\n",
      "\u001b[1m1070/1070\u001b[0m \u001b[32m━━━━━━━━━━━━━━━━━━━━\u001b[0m\u001b[37m\u001b[0m \u001b[1m1s\u001b[0m 583us/step - loss: 626650571893374976.0000 - val_loss: 655595146775101440.0000\n",
      "Epoch 87/100\n",
      "\u001b[1m1070/1070\u001b[0m \u001b[32m━━━━━━━━━━━━━━━━━━━━\u001b[0m\u001b[37m\u001b[0m \u001b[1m1s\u001b[0m 608us/step - loss: 616306022901874688.0000 - val_loss: 655527251932086272.0000\n",
      "Epoch 88/100\n",
      "\u001b[1m1070/1070\u001b[0m \u001b[32m━━━━━━━━━━━━━━━━━━━━\u001b[0m\u001b[37m\u001b[0m \u001b[1m1s\u001b[0m 521us/step - loss: 631786184548286464.0000 - val_loss: 655461075075989504.0000\n",
      "Epoch 89/100\n",
      "\u001b[1m1070/1070\u001b[0m \u001b[32m━━━━━━━━━━━━━━━━━━━━\u001b[0m\u001b[37m\u001b[0m \u001b[1m1s\u001b[0m 529us/step - loss: 625484264934211584.0000 - val_loss: 655395035658846208.0000\n",
      "Epoch 90/100\n",
      "\u001b[1m1070/1070\u001b[0m \u001b[32m━━━━━━━━━━━━━━━━━━━━\u001b[0m\u001b[37m\u001b[0m \u001b[1m1s\u001b[0m 540us/step - loss: 635592762523123712.0000 - val_loss: 655328515205365760.0000\n",
      "Epoch 91/100\n",
      "\u001b[1m1070/1070\u001b[0m \u001b[32m━━━━━━━━━━━━━━━━━━━━\u001b[0m\u001b[37m\u001b[0m \u001b[1m1s\u001b[0m 561us/step - loss: 621919235920101376.0000 - val_loss: 655260482923397120.0000\n",
      "Epoch 92/100\n",
      "\u001b[1m1070/1070\u001b[0m \u001b[32m━━━━━━━━━━━━━━━━━━━━\u001b[0m\u001b[37m\u001b[0m \u001b[1m1s\u001b[0m 527us/step - loss: 631918263382573056.0000 - val_loss: 655192450641428480.0000\n",
      "Epoch 93/100\n",
      "\u001b[1m1070/1070\u001b[0m \u001b[32m━━━━━━━━━━━━━━━━━━━━\u001b[0m\u001b[37m\u001b[0m \u001b[1m1s\u001b[0m 553us/step - loss: 637113112226430976.0000 - val_loss: 655125311712657408.0000\n",
      "Epoch 94/100\n",
      "\u001b[1m1070/1070\u001b[0m \u001b[32m━━━━━━━━━━━━━━━━━━━━\u001b[0m\u001b[37m\u001b[0m \u001b[1m1s\u001b[0m 619us/step - loss: 623851902483824640.0000 - val_loss: 655055767602200576.0000\n",
      "Epoch 95/100\n",
      "\u001b[1m1070/1070\u001b[0m \u001b[32m━━━━━━━━━━━━━━━━━━━━\u001b[0m\u001b[37m\u001b[0m \u001b[1m1s\u001b[0m 591us/step - loss: 623128355113271296.0000 - val_loss: 654990827696685056.0000\n",
      "Epoch 96/100\n",
      "\u001b[1m1070/1070\u001b[0m \u001b[32m━━━━━━━━━━━━━━━━━━━━\u001b[0m\u001b[37m\u001b[0m \u001b[1m1s\u001b[0m 608us/step - loss: 628405461170782208.0000 - val_loss: 654922864134193152.0000\n",
      "Epoch 97/100\n",
      "\u001b[1m1070/1070\u001b[0m \u001b[32m━━━━━━━━━━━━━━━━━━━━\u001b[0m\u001b[37m\u001b[0m \u001b[1m1s\u001b[0m 588us/step - loss: 632384731190657024.0000 - val_loss: 654853320023736320.0000\n",
      "Epoch 98/100\n",
      "\u001b[1m1070/1070\u001b[0m \u001b[32m━━━━━━━━━━━━━━━━━━━━\u001b[0m\u001b[37m\u001b[0m \u001b[1m1s\u001b[0m 579us/step - loss: 621728814250065920.0000 - val_loss: 654786318533918720.0000\n",
      "Epoch 99/100\n",
      "\u001b[1m1070/1070\u001b[0m \u001b[32m━━━━━━━━━━━━━━━━━━━━\u001b[0m\u001b[37m\u001b[0m \u001b[1m1s\u001b[0m 586us/step - loss: 630604896743194624.0000 - val_loss: 654718286251950080.0000\n",
      "Epoch 100/100\n",
      "\u001b[1m1070/1070\u001b[0m \u001b[32m━━━━━━━━━━━━━━━━━━━━\u001b[0m\u001b[37m\u001b[0m \u001b[1m1s\u001b[0m 564us/step - loss: 620254850193555456.0000 - val_loss: 654649360616783872.0000\n"
     ]
    }
   ],
   "source": [
    "\n",
    "history = model.fit(X_train_preprocessed, y_train, epochs=100, validation_split=0.2)"
   ]
  },
  {
   "cell_type": "code",
   "execution_count": 30,
   "metadata": {},
   "outputs": [
    {
     "name": "stdout",
     "output_type": "stream",
     "text": [
      "\u001b[1m335/335\u001b[0m \u001b[32m━━━━━━━━━━━━━━━━━━━━\u001b[0m\u001b[37m\u001b[0m \u001b[1m0s\u001b[0m 329us/step - loss: 41547494491544891686912.0000\n",
      "Test Loss: 6.979869799238183e+24\n"
     ]
    }
   ],
   "source": [
    "loss = model.evaluate(X_test_preprocessed, y_test)\n",
    "print(f'Test Loss: {loss}')\n"
   ]
  },
  {
   "cell_type": "code",
   "execution_count": 31,
   "metadata": {},
   "outputs": [
    {
     "name": "stdout",
     "output_type": "stream",
     "text": [
      "\u001b[1m1/1\u001b[0m \u001b[32m━━━━━━━━━━━━━━━━━━━━\u001b[0m\u001b[37m\u001b[0m \u001b[1m0s\u001b[0m 57ms/step\n",
      "Predicted Price: -201516400.00\n"
     ]
    }
   ],
   "source": [
    "# Make predictions on new data\n",
    "new_data = pd.DataFrame({\n",
    "    'bed': [4],\n",
    "    'bath': [3],\n",
    "    'acre_lot': [0.8],\n",
    "    'street': [893593.0],\n",
    "    'city': ['Newark'],\n",
    "    'state': ['New Jersey'],\n",
    "    'house_size': [2200],\n",
    "    'zip_code': [7003],\n",
    "    'price': [500000]\n",
    "})\n",
    "\n",
    "# Preprocess the new data\n",
    "new_data_preprocessed = pipeline.transform(new_data)\n",
    "\n",
    "# Predict the price\n",
    "predicted_price = model.predict(new_data_preprocessed)\n",
    "print(f'Predicted Price: {predicted_price[0][0]:.2f}')"
   ]
  },
  {
   "cell_type": "code",
   "execution_count": 32,
   "metadata": {},
   "outputs": [
    {
     "name": "stderr",
     "output_type": "stream",
     "text": [
      "WARNING:absl:You are saving your model as an HDF5 file via `model.save()` or `keras.saving.save_model(model)`. This file format is considered legacy. We recommend using instead the native Keras format, e.g. `model.save('my_model.keras')` or `keras.saving.save_model(model, 'my_model.keras')`. \n"
     ]
    },
    {
     "data": {
      "text/plain": [
       "['sales_probability_preprocessor.pkl']"
      ]
     },
     "execution_count": 32,
     "metadata": {},
     "output_type": "execute_result"
    }
   ],
   "source": [
    "model.save('sales_probability_prediction_model.h5')\n",
    "joblib.dump(preprocessor, 'sales_probability_preprocessor.pkl')"
   ]
  }
 ],
 "metadata": {
  "kernelspec": {
   "display_name": "Python 3",
   "language": "python",
   "name": "python3"
  },
  "language_info": {
   "codemirror_mode": {
    "name": "ipython",
    "version": 3
   },
   "file_extension": ".py",
   "mimetype": "text/x-python",
   "name": "python",
   "nbconvert_exporter": "python",
   "pygments_lexer": "ipython3",
   "version": "3.12.4"
  }
 },
 "nbformat": 4,
 "nbformat_minor": 2
}
