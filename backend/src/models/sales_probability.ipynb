{
 "cells": [
  {
   "cell_type": "markdown",
   "metadata": {},
   "source": [
    "Sales Probability: Provide an estimated number of days to which the property can be sold"
   ]
  },
  {
   "cell_type": "code",
   "execution_count": 97,
   "metadata": {},
   "outputs": [],
   "source": [
    "#importing modules\n",
    "import tensorflow as tf\n",
    "from tensorflow import keras\n",
    "from keras import datasets\n",
    "from keras import layers\n",
    "from keras import models\n",
    "import time\n",
    "import matplotlib.pyplot as plt\n",
    "import numpy as np\n",
    "import pandas as pd\n",
    "import keras as K\n",
    "from tensorflow import keras\n",
    "from sklearn.model_selection import train_test_split\n",
    "from keras.layers import Embedding, Conv1D, GlobalMaxPooling1D, Dense\n",
    "from keras.models import Sequential\n",
    "from sklearn.preprocessing import LabelEncoder\n",
    "#from keras.preprocessing.text import Tokenizer\n",
    "from keras.preprocessing.sequence import pad_sequences\n",
    "from keras.utils import to_categorical\n",
    "import spacy\n",
    "from sklearn.metrics.pairwise import cosine_similarity\n",
    "from sklearn.preprocessing import StandardScaler, OneHotEncoder\n",
    "from sklearn.compose import ColumnTransformer\n",
    "from sklearn.pipeline import Pipeline"
   ]
  },
  {
   "cell_type": "code",
   "execution_count": 98,
   "metadata": {},
   "outputs": [],
   "source": [
    "import ssl\n",
    "ssl._create_default_https_context = ssl._create_unverified_context\n"
   ]
  },
  {
   "cell_type": "code",
   "execution_count": 99,
   "metadata": {},
   "outputs": [
    {
     "data": {
      "text/html": [
       "<div>\n",
       "<style scoped>\n",
       "    .dataframe tbody tr th:only-of-type {\n",
       "        vertical-align: middle;\n",
       "    }\n",
       "\n",
       "    .dataframe tbody tr th {\n",
       "        vertical-align: top;\n",
       "    }\n",
       "\n",
       "    .dataframe thead th {\n",
       "        text-align: right;\n",
       "    }\n",
       "</style>\n",
       "<table border=\"1\" class=\"dataframe\">\n",
       "  <thead>\n",
       "    <tr style=\"text-align: right;\">\n",
       "      <th></th>\n",
       "      <th>brokered_by</th>\n",
       "      <th>status</th>\n",
       "      <th>price</th>\n",
       "      <th>bed</th>\n",
       "      <th>bath</th>\n",
       "      <th>acre_lot</th>\n",
       "      <th>street</th>\n",
       "      <th>city</th>\n",
       "      <th>state</th>\n",
       "      <th>zip_code</th>\n",
       "      <th>house_size</th>\n",
       "      <th>prev_sold_date</th>\n",
       "    </tr>\n",
       "  </thead>\n",
       "  <tbody>\n",
       "    <tr>\n",
       "      <th>0</th>\n",
       "      <td>103378.0</td>\n",
       "      <td>for_sale</td>\n",
       "      <td>105000.0</td>\n",
       "      <td>3.0</td>\n",
       "      <td>2.0</td>\n",
       "      <td>0.12</td>\n",
       "      <td>1962661.0</td>\n",
       "      <td>Adjuntas</td>\n",
       "      <td>Puerto Rico</td>\n",
       "      <td>601.0</td>\n",
       "      <td>920.0</td>\n",
       "      <td>NaN</td>\n",
       "    </tr>\n",
       "    <tr>\n",
       "      <th>1</th>\n",
       "      <td>52707.0</td>\n",
       "      <td>for_sale</td>\n",
       "      <td>80000.0</td>\n",
       "      <td>4.0</td>\n",
       "      <td>2.0</td>\n",
       "      <td>0.08</td>\n",
       "      <td>1902874.0</td>\n",
       "      <td>Adjuntas</td>\n",
       "      <td>Puerto Rico</td>\n",
       "      <td>601.0</td>\n",
       "      <td>1527.0</td>\n",
       "      <td>NaN</td>\n",
       "    </tr>\n",
       "    <tr>\n",
       "      <th>2</th>\n",
       "      <td>103379.0</td>\n",
       "      <td>for_sale</td>\n",
       "      <td>67000.0</td>\n",
       "      <td>2.0</td>\n",
       "      <td>1.0</td>\n",
       "      <td>0.15</td>\n",
       "      <td>1404990.0</td>\n",
       "      <td>Juana Diaz</td>\n",
       "      <td>Puerto Rico</td>\n",
       "      <td>795.0</td>\n",
       "      <td>748.0</td>\n",
       "      <td>NaN</td>\n",
       "    </tr>\n",
       "    <tr>\n",
       "      <th>3</th>\n",
       "      <td>31239.0</td>\n",
       "      <td>for_sale</td>\n",
       "      <td>145000.0</td>\n",
       "      <td>4.0</td>\n",
       "      <td>2.0</td>\n",
       "      <td>0.10</td>\n",
       "      <td>1947675.0</td>\n",
       "      <td>Ponce</td>\n",
       "      <td>Puerto Rico</td>\n",
       "      <td>731.0</td>\n",
       "      <td>1800.0</td>\n",
       "      <td>NaN</td>\n",
       "    </tr>\n",
       "    <tr>\n",
       "      <th>4</th>\n",
       "      <td>34632.0</td>\n",
       "      <td>for_sale</td>\n",
       "      <td>65000.0</td>\n",
       "      <td>6.0</td>\n",
       "      <td>2.0</td>\n",
       "      <td>0.05</td>\n",
       "      <td>331151.0</td>\n",
       "      <td>Mayaguez</td>\n",
       "      <td>Puerto Rico</td>\n",
       "      <td>680.0</td>\n",
       "      <td>NaN</td>\n",
       "      <td>NaN</td>\n",
       "    </tr>\n",
       "  </tbody>\n",
       "</table>\n",
       "</div>"
      ],
      "text/plain": [
       "   brokered_by    status     price  bed  bath  acre_lot     street  \\\n",
       "0     103378.0  for_sale  105000.0  3.0   2.0      0.12  1962661.0   \n",
       "1      52707.0  for_sale   80000.0  4.0   2.0      0.08  1902874.0   \n",
       "2     103379.0  for_sale   67000.0  2.0   1.0      0.15  1404990.0   \n",
       "3      31239.0  for_sale  145000.0  4.0   2.0      0.10  1947675.0   \n",
       "4      34632.0  for_sale   65000.0  6.0   2.0      0.05   331151.0   \n",
       "\n",
       "         city        state  zip_code  house_size prev_sold_date  \n",
       "0    Adjuntas  Puerto Rico     601.0       920.0            NaN  \n",
       "1    Adjuntas  Puerto Rico     601.0      1527.0            NaN  \n",
       "2  Juana Diaz  Puerto Rico     795.0       748.0            NaN  \n",
       "3       Ponce  Puerto Rico     731.0      1800.0            NaN  \n",
       "4    Mayaguez  Puerto Rico     680.0         NaN            NaN  "
      ]
     },
     "execution_count": 99,
     "metadata": {},
     "output_type": "execute_result"
    }
   ],
   "source": [
    "data_path = \"data.csv\"\n",
    "df = pd.read_csv(data_path)\n",
    "df.head()"
   ]
  },
  {
   "cell_type": "code",
   "execution_count": 100,
   "metadata": {},
   "outputs": [],
   "source": [
    "state_df = df[df['state'] == 'New Jersey']"
   ]
  },
  {
   "cell_type": "code",
   "execution_count": 101,
   "metadata": {},
   "outputs": [],
   "source": [
    "state_df_duplicate = pd.concat([state_df,state_df,state_df,state_df,state_df,state_df,state_df,state_df], ignore_index=True)\n"
   ]
  },
  {
   "cell_type": "code",
   "execution_count": 102,
   "metadata": {},
   "outputs": [],
   "source": [
    "state_df_cleaned= state_df_duplicate.dropna()"
   ]
  },
  {
   "cell_type": "code",
   "execution_count": 103,
   "metadata": {},
   "outputs": [
    {
     "data": {
      "text/html": [
       "<div>\n",
       "<style scoped>\n",
       "    .dataframe tbody tr th:only-of-type {\n",
       "        vertical-align: middle;\n",
       "    }\n",
       "\n",
       "    .dataframe tbody tr th {\n",
       "        vertical-align: top;\n",
       "    }\n",
       "\n",
       "    .dataframe thead th {\n",
       "        text-align: right;\n",
       "    }\n",
       "</style>\n",
       "<table border=\"1\" class=\"dataframe\">\n",
       "  <thead>\n",
       "    <tr style=\"text-align: right;\">\n",
       "      <th></th>\n",
       "      <th>brokered_by</th>\n",
       "      <th>status</th>\n",
       "      <th>price</th>\n",
       "      <th>bed</th>\n",
       "      <th>bath</th>\n",
       "      <th>acre_lot</th>\n",
       "      <th>street</th>\n",
       "      <th>city</th>\n",
       "      <th>state</th>\n",
       "      <th>zip_code</th>\n",
       "      <th>house_size</th>\n",
       "      <th>prev_sold_date</th>\n",
       "    </tr>\n",
       "  </thead>\n",
       "  <tbody>\n",
       "    <tr>\n",
       "      <th>1</th>\n",
       "      <td>16709.0</td>\n",
       "      <td>for_sale</td>\n",
       "      <td>339900.0</td>\n",
       "      <td>2.0</td>\n",
       "      <td>2.0</td>\n",
       "      <td>0.11</td>\n",
       "      <td>893593.0</td>\n",
       "      <td>Avenel</td>\n",
       "      <td>New Jersey</td>\n",
       "      <td>7001.0</td>\n",
       "      <td>1456.0</td>\n",
       "      <td>1987-05-20</td>\n",
       "    </tr>\n",
       "    <tr>\n",
       "      <th>2</th>\n",
       "      <td>60594.0</td>\n",
       "      <td>for_sale</td>\n",
       "      <td>305100.0</td>\n",
       "      <td>3.0</td>\n",
       "      <td>2.0</td>\n",
       "      <td>0.14</td>\n",
       "      <td>169015.0</td>\n",
       "      <td>Avenel</td>\n",
       "      <td>New Jersey</td>\n",
       "      <td>7001.0</td>\n",
       "      <td>1542.0</td>\n",
       "      <td>2022-01-27</td>\n",
       "    </tr>\n",
       "    <tr>\n",
       "      <th>5</th>\n",
       "      <td>53550.0</td>\n",
       "      <td>for_sale</td>\n",
       "      <td>325000.0</td>\n",
       "      <td>3.0</td>\n",
       "      <td>3.0</td>\n",
       "      <td>0.15</td>\n",
       "      <td>1354688.0</td>\n",
       "      <td>Avenel</td>\n",
       "      <td>New Jersey</td>\n",
       "      <td>7001.0</td>\n",
       "      <td>1870.0</td>\n",
       "      <td>2002-12-17</td>\n",
       "    </tr>\n",
       "    <tr>\n",
       "      <th>8</th>\n",
       "      <td>81259.0</td>\n",
       "      <td>for_sale</td>\n",
       "      <td>440000.0</td>\n",
       "      <td>4.0</td>\n",
       "      <td>2.0</td>\n",
       "      <td>0.17</td>\n",
       "      <td>863208.0</td>\n",
       "      <td>Avenel</td>\n",
       "      <td>New Jersey</td>\n",
       "      <td>7001.0</td>\n",
       "      <td>1842.0</td>\n",
       "      <td>2015-11-23</td>\n",
       "    </tr>\n",
       "    <tr>\n",
       "      <th>10</th>\n",
       "      <td>48366.0</td>\n",
       "      <td>for_sale</td>\n",
       "      <td>399000.0</td>\n",
       "      <td>3.0</td>\n",
       "      <td>3.0</td>\n",
       "      <td>0.06</td>\n",
       "      <td>190536.0</td>\n",
       "      <td>Avenel</td>\n",
       "      <td>New Jersey</td>\n",
       "      <td>7001.0</td>\n",
       "      <td>1476.0</td>\n",
       "      <td>1990-02-28</td>\n",
       "    </tr>\n",
       "  </tbody>\n",
       "</table>\n",
       "</div>"
      ],
      "text/plain": [
       "    brokered_by    status     price  bed  bath  acre_lot     street    city  \\\n",
       "1       16709.0  for_sale  339900.0  2.0   2.0      0.11   893593.0  Avenel   \n",
       "2       60594.0  for_sale  305100.0  3.0   2.0      0.14   169015.0  Avenel   \n",
       "5       53550.0  for_sale  325000.0  3.0   3.0      0.15  1354688.0  Avenel   \n",
       "8       81259.0  for_sale  440000.0  4.0   2.0      0.17   863208.0  Avenel   \n",
       "10      48366.0  for_sale  399000.0  3.0   3.0      0.06   190536.0  Avenel   \n",
       "\n",
       "         state  zip_code  house_size prev_sold_date  \n",
       "1   New Jersey    7001.0      1456.0     1987-05-20  \n",
       "2   New Jersey    7001.0      1542.0     2022-01-27  \n",
       "5   New Jersey    7001.0      1870.0     2002-12-17  \n",
       "8   New Jersey    7001.0      1842.0     2015-11-23  \n",
       "10  New Jersey    7001.0      1476.0     1990-02-28  "
      ]
     },
     "execution_count": 103,
     "metadata": {},
     "output_type": "execute_result"
    }
   ],
   "source": [
    "state_df_cleaned.head()"
   ]
  },
  {
   "cell_type": "code",
   "execution_count": 104,
   "metadata": {},
   "outputs": [
    {
     "data": {
      "text/plain": [
       "{'for_sale', 'sold'}"
      ]
     },
     "execution_count": 104,
     "metadata": {},
     "output_type": "execute_result"
    }
   ],
   "source": [
    "set(state_df_cleaned['status'])"
   ]
  },
  {
   "cell_type": "code",
   "execution_count": 105,
   "metadata": {},
   "outputs": [],
   "source": [
    "sold_df = state_df_cleaned[state_df_cleaned['status'] == 'sold']"
   ]
  },
  {
   "cell_type": "code",
   "execution_count": 106,
   "metadata": {},
   "outputs": [
    {
     "data": {
      "text/html": [
       "<div>\n",
       "<style scoped>\n",
       "    .dataframe tbody tr th:only-of-type {\n",
       "        vertical-align: middle;\n",
       "    }\n",
       "\n",
       "    .dataframe tbody tr th {\n",
       "        vertical-align: top;\n",
       "    }\n",
       "\n",
       "    .dataframe thead th {\n",
       "        text-align: right;\n",
       "    }\n",
       "</style>\n",
       "<table border=\"1\" class=\"dataframe\">\n",
       "  <thead>\n",
       "    <tr style=\"text-align: right;\">\n",
       "      <th></th>\n",
       "      <th>brokered_by</th>\n",
       "      <th>status</th>\n",
       "      <th>price</th>\n",
       "      <th>bed</th>\n",
       "      <th>bath</th>\n",
       "      <th>acre_lot</th>\n",
       "      <th>street</th>\n",
       "      <th>city</th>\n",
       "      <th>state</th>\n",
       "      <th>zip_code</th>\n",
       "      <th>house_size</th>\n",
       "      <th>prev_sold_date</th>\n",
       "    </tr>\n",
       "  </thead>\n",
       "  <tbody>\n",
       "    <tr>\n",
       "      <th>33563</th>\n",
       "      <td>81259.0</td>\n",
       "      <td>sold</td>\n",
       "      <td>440000.0</td>\n",
       "      <td>4.0</td>\n",
       "      <td>2.0</td>\n",
       "      <td>0.17</td>\n",
       "      <td>863208.0</td>\n",
       "      <td>Avenel</td>\n",
       "      <td>New Jersey</td>\n",
       "      <td>7001.0</td>\n",
       "      <td>1842.0</td>\n",
       "      <td>2022-04-11</td>\n",
       "    </tr>\n",
       "    <tr>\n",
       "      <th>33566</th>\n",
       "      <td>53016.0</td>\n",
       "      <td>sold</td>\n",
       "      <td>385000.0</td>\n",
       "      <td>3.0</td>\n",
       "      <td>2.0</td>\n",
       "      <td>0.11</td>\n",
       "      <td>531675.0</td>\n",
       "      <td>Avenel</td>\n",
       "      <td>New Jersey</td>\n",
       "      <td>7001.0</td>\n",
       "      <td>968.0</td>\n",
       "      <td>2022-04-01</td>\n",
       "    </tr>\n",
       "    <tr>\n",
       "      <th>33567</th>\n",
       "      <td>51784.0</td>\n",
       "      <td>sold</td>\n",
       "      <td>479000.0</td>\n",
       "      <td>3.0</td>\n",
       "      <td>2.0</td>\n",
       "      <td>0.05</td>\n",
       "      <td>1089635.0</td>\n",
       "      <td>Bayonne</td>\n",
       "      <td>New Jersey</td>\n",
       "      <td>7002.0</td>\n",
       "      <td>1322.0</td>\n",
       "      <td>2022-04-12</td>\n",
       "    </tr>\n",
       "    <tr>\n",
       "      <th>33569</th>\n",
       "      <td>8149.0</td>\n",
       "      <td>sold</td>\n",
       "      <td>729000.0</td>\n",
       "      <td>5.0</td>\n",
       "      <td>3.0</td>\n",
       "      <td>0.10</td>\n",
       "      <td>893972.0</td>\n",
       "      <td>Bayonne</td>\n",
       "      <td>New Jersey</td>\n",
       "      <td>7002.0</td>\n",
       "      <td>2089.0</td>\n",
       "      <td>2022-03-07</td>\n",
       "    </tr>\n",
       "    <tr>\n",
       "      <th>33570</th>\n",
       "      <td>79122.0</td>\n",
       "      <td>sold</td>\n",
       "      <td>715000.0</td>\n",
       "      <td>6.0</td>\n",
       "      <td>5.0</td>\n",
       "      <td>0.06</td>\n",
       "      <td>1746025.0</td>\n",
       "      <td>Bayonne</td>\n",
       "      <td>New Jersey</td>\n",
       "      <td>7002.0</td>\n",
       "      <td>2500.0</td>\n",
       "      <td>2022-03-07</td>\n",
       "    </tr>\n",
       "  </tbody>\n",
       "</table>\n",
       "</div>"
      ],
      "text/plain": [
       "       brokered_by status     price  bed  bath  acre_lot     street     city  \\\n",
       "33563      81259.0   sold  440000.0  4.0   2.0      0.17   863208.0   Avenel   \n",
       "33566      53016.0   sold  385000.0  3.0   2.0      0.11   531675.0   Avenel   \n",
       "33567      51784.0   sold  479000.0  3.0   2.0      0.05  1089635.0  Bayonne   \n",
       "33569       8149.0   sold  729000.0  5.0   3.0      0.10   893972.0  Bayonne   \n",
       "33570      79122.0   sold  715000.0  6.0   5.0      0.06  1746025.0  Bayonne   \n",
       "\n",
       "            state  zip_code  house_size prev_sold_date  \n",
       "33563  New Jersey    7001.0      1842.0     2022-04-11  \n",
       "33566  New Jersey    7001.0       968.0     2022-04-01  \n",
       "33567  New Jersey    7002.0      1322.0     2022-04-12  \n",
       "33569  New Jersey    7002.0      2089.0     2022-03-07  \n",
       "33570  New Jersey    7002.0      2500.0     2022-03-07  "
      ]
     },
     "execution_count": 106,
     "metadata": {},
     "output_type": "execute_result"
    }
   ],
   "source": [
    "sold_df.head()"
   ]
  },
  {
   "cell_type": "code",
   "execution_count": 107,
   "metadata": {},
   "outputs": [
    {
     "data": {
      "text/plain": [
       "{'sold'}"
      ]
     },
     "execution_count": 107,
     "metadata": {},
     "output_type": "execute_result"
    }
   ],
   "source": [
    "set(sold_df['status'])"
   ]
  },
  {
   "cell_type": "code",
   "execution_count": 108,
   "metadata": {},
   "outputs": [
    {
     "name": "stderr",
     "output_type": "stream",
     "text": [
      "/var/folders/b8/466710_d78q31z8wgrvw2cc00000gn/T/ipykernel_51708/2220761013.py:1: SettingWithCopyWarning: \n",
      "A value is trying to be set on a copy of a slice from a DataFrame\n",
      "\n",
      "See the caveats in the documentation: https://pandas.pydata.org/pandas-docs/stable/user_guide/indexing.html#returning-a-view-versus-a-copy\n",
      "  sold_df.drop(['status','brokered_by'], axis=1, inplace=True)\n"
     ]
    }
   ],
   "source": [
    "sold_df.drop(['status','brokered_by'], axis=1, inplace=True)"
   ]
  },
  {
   "cell_type": "code",
   "execution_count": 109,
   "metadata": {},
   "outputs": [
    {
     "data": {
      "text/plain": [
       "Index(['price', 'bed', 'bath', 'acre_lot', 'street', 'city', 'state',\n",
       "       'zip_code', 'house_size', 'prev_sold_date'],\n",
       "      dtype='object')"
      ]
     },
     "execution_count": 109,
     "metadata": {},
     "output_type": "execute_result"
    }
   ],
   "source": [
    "sold_df.columns"
   ]
  },
  {
   "cell_type": "code",
   "execution_count": 110,
   "metadata": {},
   "outputs": [
    {
     "name": "stderr",
     "output_type": "stream",
     "text": [
      "/var/folders/b8/466710_d78q31z8wgrvw2cc00000gn/T/ipykernel_51708/499865651.py:1: SettingWithCopyWarning: \n",
      "A value is trying to be set on a copy of a slice from a DataFrame.\n",
      "Try using .loc[row_indexer,col_indexer] = value instead\n",
      "\n",
      "See the caveats in the documentation: https://pandas.pydata.org/pandas-docs/stable/user_guide/indexing.html#returning-a-view-versus-a-copy\n",
      "  sold_df['prev_sold_date'] = pd.to_datetime(sold_df['prev_sold_date'])\n"
     ]
    }
   ],
   "source": [
    "sold_df['prev_sold_date'] = pd.to_datetime(sold_df['prev_sold_date'])"
   ]
  },
  {
   "cell_type": "code",
   "execution_count": 111,
   "metadata": {},
   "outputs": [
    {
     "name": "stderr",
     "output_type": "stream",
     "text": [
      "/var/folders/b8/466710_d78q31z8wgrvw2cc00000gn/T/ipykernel_51708/914261620.py:1: SettingWithCopyWarning: \n",
      "A value is trying to be set on a copy of a slice from a DataFrame\n",
      "\n",
      "See the caveats in the documentation: https://pandas.pydata.org/pandas-docs/stable/user_guide/indexing.html#returning-a-view-versus-a-copy\n",
      "  sold_df.dropna(inplace=True)\n"
     ]
    }
   ],
   "source": [
    "sold_df.dropna(inplace=True)"
   ]
  },
  {
   "cell_type": "code",
   "execution_count": 112,
   "metadata": {},
   "outputs": [
    {
     "data": {
      "text/plain": [
       "33563    2022-04-11\n",
       "33566    2022-04-01\n",
       "33567    2022-04-12\n",
       "33569    2022-03-07\n",
       "33570    2022-03-07\n",
       "            ...    \n",
       "385587   2021-12-30\n",
       "385588   2022-01-21\n",
       "385589   2021-11-17\n",
       "385590   2022-02-01\n",
       "385591   2022-02-15\n",
       "Name: prev_sold_date, Length: 53472, dtype: datetime64[ns]"
      ]
     },
     "execution_count": 112,
     "metadata": {},
     "output_type": "execute_result"
    }
   ],
   "source": [
    "sold_df['prev_sold_date']"
   ]
  },
  {
   "cell_type": "code",
   "execution_count": 113,
   "metadata": {},
   "outputs": [],
   "source": [
    "#adding a new column 'previous_listed_date' to the dataframe\n",
    "sold_df=sold_df.assign(prev_listed_date = sold_df['prev_sold_date'].shift(1))  "
   ]
  },
  {
   "cell_type": "code",
   "execution_count": 114,
   "metadata": {},
   "outputs": [
    {
     "data": {
      "text/plain": [
       "33563           NaT\n",
       "33566    2022-04-11\n",
       "33567    2022-04-01\n",
       "33569    2022-04-12\n",
       "33570    2022-03-07\n",
       "            ...    \n",
       "385587   2021-10-28\n",
       "385588   2021-12-30\n",
       "385589   2022-01-21\n",
       "385590   2021-11-17\n",
       "385591   2022-02-01\n",
       "Name: prev_listed_date, Length: 53472, dtype: datetime64[ns]"
      ]
     },
     "execution_count": 114,
     "metadata": {},
     "output_type": "execute_result"
    }
   ],
   "source": [
    "sold_df['prev_listed_date']"
   ]
  },
  {
   "cell_type": "code",
   "execution_count": 115,
   "metadata": {},
   "outputs": [],
   "source": [
    "#here we add the number of days the property was listed for\n",
    "sold_df['days_listed'] = sold_df['prev_sold_date'] - sold_df['prev_listed_date']"
   ]
  },
  {
   "cell_type": "code",
   "execution_count": 116,
   "metadata": {},
   "outputs": [
    {
     "data": {
      "text/plain": [
       "33563         NaT\n",
       "33566    -10 days\n",
       "33567     11 days\n",
       "33569    -36 days\n",
       "33570      0 days\n",
       "           ...   \n",
       "385587    63 days\n",
       "385588    22 days\n",
       "385589   -65 days\n",
       "385590    76 days\n",
       "385591    14 days\n",
       "Name: days_listed, Length: 53472, dtype: timedelta64[ns]"
      ]
     },
     "execution_count": 116,
     "metadata": {},
     "output_type": "execute_result"
    }
   ],
   "source": [
    "sold_df['days_listed']"
   ]
  },
  {
   "cell_type": "code",
   "execution_count": 117,
   "metadata": {},
   "outputs": [],
   "source": [
    "X=sold_df.drop(['days_listed','prev_sold_date','prev_listed_date'], axis=1)\n",
    "y=pd.to_numeric(sold_df['days_listed'])"
   ]
  },
  {
   "cell_type": "code",
   "execution_count": 118,
   "metadata": {},
   "outputs": [
    {
     "data": {
      "text/plain": [
       "Index(['price', 'bed', 'bath', 'acre_lot', 'street', 'city', 'state',\n",
       "       'zip_code', 'house_size'],\n",
       "      dtype='object')"
      ]
     },
     "execution_count": 118,
     "metadata": {},
     "output_type": "execute_result"
    }
   ],
   "source": [
    "X.columns"
   ]
  },
  {
   "cell_type": "code",
   "execution_count": 119,
   "metadata": {},
   "outputs": [],
   "source": [
    "X_train, X_test, y_train, y_test = train_test_split(X, y, test_size=0.2, random_state=42)\n",
    "numerical_features = ['bed', 'bath', 'acre_lot', 'house_size','zip_code','street','price']\n",
    "categorical_features = ['city', 'state']\n",
    "numerical_transformer = StandardScaler()\n",
    "categorical_transformer = OneHotEncoder()\n",
    "preprocessor = ColumnTransformer(\n",
    "    transformers=[\n",
    "        ('num', numerical_transformer, numerical_features),\n",
    "        ('cat', categorical_transformer, categorical_features)\n",
    "    ])\n",
    "pipeline = Pipeline(steps=[('preprocessor', preprocessor)])\n",
    "X_train_preprocessed = pipeline.fit_transform(X_train)\n",
    "X_test_preprocessed = pipeline.transform(X_test)"
   ]
  },
  {
   "cell_type": "code",
   "execution_count": 120,
   "metadata": {},
   "outputs": [
    {
     "name": "stderr",
     "output_type": "stream",
     "text": [
      "/Library/Frameworks/Python.framework/Versions/3.12/lib/python3.12/site-packages/keras/src/layers/core/dense.py:87: UserWarning: Do not pass an `input_shape`/`input_dim` argument to a layer. When using Sequential models, prefer using an `Input(shape)` object as the first layer in the model instead.\n",
      "  super().__init__(activity_regularizer=activity_regularizer, **kwargs)\n"
     ]
    }
   ],
   "source": [
    "model = Sequential()\n",
    "model.add(Dense(64, activation='relu', input_shape=(X_train_preprocessed.shape[1],)))\n",
    "model.add(Dense(32, activation='relu'))\n",
    "model.add(Dense(1))  # Output layer with a single neuron for regression\n",
    "\n",
    "model.compile(optimizer='adam', loss='mean_squared_error')\n",
    "\n"
   ]
  },
  {
   "cell_type": "code",
   "execution_count": 121,
   "metadata": {},
   "outputs": [
    {
     "name": "stdout",
     "output_type": "stream",
     "text": [
      "Epoch 1/5\n",
      "\u001b[1m1070/1070\u001b[0m \u001b[32m━━━━━━━━━━━━━━━━━━━━\u001b[0m\u001b[37m\u001b[0m \u001b[1m1s\u001b[0m 706us/step - loss: 657508640604815360.0000 - val_loss: 666524223635718144.0000\n",
      "Epoch 2/5\n",
      "\u001b[1m1070/1070\u001b[0m \u001b[32m━━━━━━━━━━━━━━━━━━━━\u001b[0m\u001b[37m\u001b[0m \u001b[1m1s\u001b[0m 592us/step - loss: 671058678308143104.0000 - val_loss: 666523192843567104.0000\n",
      "Epoch 3/5\n",
      "\u001b[1m1070/1070\u001b[0m \u001b[32m━━━━━━━━━━━━━━━━━━━━\u001b[0m\u001b[37m\u001b[0m \u001b[1m1s\u001b[0m 571us/step - loss: 669658106652786688.0000 - val_loss: 666521474856648704.0000\n",
      "Epoch 4/5\n",
      "\u001b[1m1070/1070\u001b[0m \u001b[32m━━━━━━━━━━━━━━━━━━━━\u001b[0m\u001b[37m\u001b[0m \u001b[1m1s\u001b[0m 533us/step - loss: 661973207569399808.0000 - val_loss: 666517489126998016.0000\n",
      "Epoch 5/5\n",
      "\u001b[1m1070/1070\u001b[0m \u001b[32m━━━━━━━━━━━━━━━━━━━━\u001b[0m\u001b[37m\u001b[0m \u001b[1m1s\u001b[0m 536us/step - loss: 668732317862199296.0000 - val_loss: 666512678763626496.0000\n"
     ]
    }
   ],
   "source": [
    "\n",
    "history = model.fit(X_train_preprocessed, y_train, epochs=5, validation_split=0.2)"
   ]
  },
  {
   "cell_type": "code",
   "execution_count": 122,
   "metadata": {},
   "outputs": [
    {
     "name": "stdout",
     "output_type": "stream",
     "text": [
      "\u001b[1m335/335\u001b[0m \u001b[32m━━━━━━━━━━━━━━━━━━━━\u001b[0m\u001b[37m\u001b[0m \u001b[1m0s\u001b[0m 290us/step - loss: 1204857447855247763439616.0000\n",
      "Test Loss: 2.0241593825337417e+26\n"
     ]
    }
   ],
   "source": [
    "loss = model.evaluate(X_test_preprocessed, y_test)\n",
    "print(f'Test Loss: {loss}')\n"
   ]
  },
  {
   "cell_type": "code",
   "execution_count": 123,
   "metadata": {},
   "outputs": [
    {
     "name": "stdout",
     "output_type": "stream",
     "text": [
      "\u001b[1m1/1\u001b[0m \u001b[32m━━━━━━━━━━━━━━━━━━━━\u001b[0m\u001b[37m\u001b[0m \u001b[1m0s\u001b[0m 53ms/step\n",
      "Predicted Price: -90078.76\n"
     ]
    }
   ],
   "source": [
    "# Make predictions on new data\n",
    "new_data = pd.DataFrame({\n",
    "    'bed': [4],\n",
    "    'bath': [3],\n",
    "    'acre_lot': [0.8],\n",
    "    'street': [893593.0],\n",
    "    'city': ['Newark'],\n",
    "    'state': ['New Jersey'],\n",
    "    'house_size': [2200],\n",
    "    'zip_code': [7003],\n",
    "    'price': [500000]\n",
    "})\n",
    "\n",
    "# Preprocess the new data\n",
    "new_data_preprocessed = pipeline.transform(new_data)\n",
    "\n",
    "# Predict the price\n",
    "predicted_price = model.predict(new_data_preprocessed)\n",
    "print(f'Predicted Price: {predicted_price[0][0]:.2f}')"
   ]
  },
  {
   "cell_type": "code",
   "execution_count": 125,
   "metadata": {},
   "outputs": [],
   "source": [
    "model.save('sales_probability_prediction_model.keras')"
   ]
  }
 ],
 "metadata": {
  "kernelspec": {
   "display_name": "Python 3",
   "language": "python",
   "name": "python3"
  },
  "language_info": {
   "codemirror_mode": {
    "name": "ipython",
    "version": 3
   },
   "file_extension": ".py",
   "mimetype": "text/x-python",
   "name": "python",
   "nbconvert_exporter": "python",
   "pygments_lexer": "ipython3",
   "version": "3.12.4"
  }
 },
 "nbformat": 4,
 "nbformat_minor": 2
}
