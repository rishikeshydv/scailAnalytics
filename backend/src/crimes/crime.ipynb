{
 "cells": [
  {
   "cell_type": "code",
   "execution_count": 1,
   "metadata": {},
   "outputs": [],
   "source": [
    "import pandas as pd"
   ]
  },
  {
   "cell_type": "code",
   "execution_count": 5,
   "metadata": {},
   "outputs": [],
   "source": [
    "df = pd.read_csv('city_crimes.csv')"
   ]
  },
  {
   "cell_type": "code",
   "execution_count": 6,
   "metadata": {},
   "outputs": [
    {
     "data": {
      "text/html": [
       "<div>\n",
       "<style scoped>\n",
       "    .dataframe tbody tr th:only-of-type {\n",
       "        vertical-align: middle;\n",
       "    }\n",
       "\n",
       "    .dataframe tbody tr th {\n",
       "        vertical-align: top;\n",
       "    }\n",
       "\n",
       "    .dataframe thead th {\n",
       "        text-align: right;\n",
       "    }\n",
       "</style>\n",
       "<table border=\"1\" class=\"dataframe\">\n",
       "  <thead>\n",
       "    <tr style=\"text-align: right;\">\n",
       "      <th></th>\n",
       "      <th>State</th>\n",
       "      <th>City</th>\n",
       "      <th>Population</th>\n",
       "      <th>Crime/100000</th>\n",
       "    </tr>\n",
       "  </thead>\n",
       "  <tbody>\n",
       "    <tr>\n",
       "      <th>0</th>\n",
       "      <td>NaN</td>\n",
       "      <td>NaN</td>\n",
       "      <td>NaN</td>\n",
       "      <td>NaN</td>\n",
       "    </tr>\n",
       "    <tr>\n",
       "      <th>1</th>\n",
       "      <td>Alabama</td>\n",
       "      <td>Mobile</td>\n",
       "      <td>248,431</td>\n",
       "      <td>6217.02</td>\n",
       "    </tr>\n",
       "    <tr>\n",
       "      <th>2</th>\n",
       "      <td>Alaska</td>\n",
       "      <td>Anchorage</td>\n",
       "      <td>296,188</td>\n",
       "      <td>6640.04</td>\n",
       "    </tr>\n",
       "    <tr>\n",
       "      <th>3</th>\n",
       "      <td>Arizona</td>\n",
       "      <td>Chandler</td>\n",
       "      <td>249,355</td>\n",
       "      <td>2589.08</td>\n",
       "    </tr>\n",
       "    <tr>\n",
       "      <th>4</th>\n",
       "      <td>Arizona</td>\n",
       "      <td>Gilbert</td>\n",
       "      <td>242,090</td>\n",
       "      <td>1483.75</td>\n",
       "    </tr>\n",
       "  </tbody>\n",
       "</table>\n",
       "</div>"
      ],
      "text/plain": [
       "     State       City Population  Crime/100000\n",
       "0      NaN        NaN        NaN           NaN\n",
       "1  Alabama     Mobile    248,431       6217.02\n",
       "2   Alaska  Anchorage    296,188       6640.04\n",
       "3  Arizona   Chandler    249,355       2589.08\n",
       "4  Arizona    Gilbert    242,090       1483.75"
      ]
     },
     "execution_count": 6,
     "metadata": {},
     "output_type": "execute_result"
    }
   ],
   "source": [
    "df.head()"
   ]
  },
  {
   "cell_type": "code",
   "execution_count": 7,
   "metadata": {},
   "outputs": [],
   "source": [
    "df.dropna(inplace=True)"
   ]
  },
  {
   "cell_type": "code",
   "execution_count": 10,
   "metadata": {},
   "outputs": [],
   "source": [
    "import uuid"
   ]
  },
  {
   "cell_type": "code",
   "execution_count": 13,
   "metadata": {},
   "outputs": [],
   "source": [
    "import firebase_admin\n",
    "from firebase_admin import credentials\n",
    "from firebase_admin import firestore\n",
    "\n",
    "class FirebaseConfig:\n",
    "    def __init__(self):\n",
    "        if not firebase_admin._apps:\n",
    "            cred = credentials.Certificate(\"config.json\")\n",
    "            firebase_admin.initialize_app(cred, {\n",
    "                'databaseURL': 'https://speety-2175-default-rtdb.firebaseio.com'\n",
    "            })\n",
    "        self.db = firestore.client()\n",
    "    \n",
    "    def initialize_firebase(self):\n",
    "        return self.db"
   ]
  },
  {
   "cell_type": "code",
   "execution_count": 21,
   "metadata": {},
   "outputs": [],
   "source": [
    "class Crimes:\n",
    "    def __init__(self):\n",
    "        self.db = FirebaseConfig().initialize_firebase()\n",
    "    def pushCrimes(self):\n",
    "        for i in range(len(df)):\n",
    "            if i >= len(df):\n",
    "                break\n",
    "            doc_id = str(uuid.uuid1())\n",
    "            data = {\n",
    "                doc_id :\n",
    "            {\n",
    "                'city': str(df.iloc[i]['City']),\n",
    "                'state': str(df.iloc[i]['State']),\n",
    "                'total_population': str(df.iloc[i]['Population']),\n",
    "                'crime_rate': str(df.iloc[i]['Crime/100000']),\n",
    "            }\n",
    "            } \n",
    "            self.db.collection('city_crimes').document('scail').update(data)\n",
    "    #check if we pushed 100 entriess\n",
    "    def getCrimes(self):\n",
    "        cities = self.db.collection('city_crimes').document('scail').get()\n",
    "        return len((cities.to_dict()).keys())\n"
   ]
  },
  {
   "cell_type": "code",
   "execution_count": 22,
   "metadata": {},
   "outputs": [
    {
     "data": {
      "text/plain": [
       "100"
      ]
     },
     "execution_count": 22,
     "metadata": {},
     "output_type": "execute_result"
    }
   ],
   "source": [
    "Cm = Crimes()\n",
    "Cm.getCrimes()"
   ]
  }
 ],
 "metadata": {
  "kernelspec": {
   "display_name": "Python 3",
   "language": "python",
   "name": "python3"
  },
  "language_info": {
   "codemirror_mode": {
    "name": "ipython",
    "version": 3
   },
   "file_extension": ".py",
   "mimetype": "text/x-python",
   "name": "python",
   "nbconvert_exporter": "python",
   "pygments_lexer": "ipython3",
   "version": "3.12.4"
  }
 },
 "nbformat": 4,
 "nbformat_minor": 2
}
