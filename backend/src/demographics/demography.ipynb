{
 "cells": [
  {
   "cell_type": "markdown",
   "metadata": {},
   "source": [
    "    \"class FirebaseConfig:\\n\",\n",
    "    \"    def __init__(self):\\n\",\n",
    "    \"        if not firebase_admin._apps:\\n\",\n",
    "    \"            cred = credentials.Certificate(\\\"config.json\\\")\\n\",\n",
    "    \"            firebase_admin.initialize_app(cred, {\\n\",\n",
    "    \"                'databaseURL': 'https://speety-2175-default-rtdb.firebaseio.com'\\n\",\n",
    "    \"            })\\n\",\n",
    "    \"        self.db = firestore.client()\\n\",\n",
    "    \"    \\n\",\n",
    "    \"    def initialize_firebase(self):\\n\",\n",
    "    \"        return self.db\""
   ]
  },
  {
   "cell_type": "markdown",
   "metadata": {},
   "source": [
    "    \"class Demographical():\\n\",\n",
    "    \"    def __init__(self):\\n\",\n",
    "    \"        self.database = FirebaseConfig().initialize_firebase()\\n\",\n",
    "    \"    def push_demographics(self):\\n\",\n",
    "    \"        for i in range(len(df)):\\n\",\n",
    "    \"            if i >= len(df):\\n\",\n",
    "    \"                break\\n\",\n",
    "    \"            doc_id = str(uuid.uuid1())  # Generate a UUID for the document ID\\n\",\n",
    "    \"            data = {\\n\",\n",
    "    \"                doc_id: {\\n\",\n",
    "    \"                    'city': str(df.iloc[i]['City']),\\n\",\n",
    "    \"                'state': str(df.iloc[i]['State']),\\n\",\n",
    "    \"                'median_age': float(df.iloc[i]['Median Age']),\\n\",\n",
    "    \"                'male_population': int(df.iloc[i]['Male Population']),\\n\",\n",
    "    \"                'female_population': int(df.iloc[i]['Female Population']),\\n\",\n",
    "    \"                'total_population': int(df.iloc[i]['Total Population']),\\n\",\n",
    "    \"                'number_of_veterans': int(df.iloc[i]['Number of Veterans']),\\n\",\n",
    "    \"                'foreign_born': int(df.iloc[i]['Foreign-born']),\\n\",\n",
    "    \"                'average_household_size': float(df.iloc[i]['Average Household Size']),\\n\",\n",
    "    \"                'state_code': str(df.iloc[i]['State Code']),\\n\",\n",
    "    \"                'main_race': str(df.iloc[i]['Race']),\\n\",\n",
    "    \"                'count': int(df.iloc[i]['Count'])\\n\",\n",
    "    \"                }\\n\",\n",
    "    \"            }\\n\",\n",
    "    \"            self.database.collection('demography').document(\\\"scail\\\").update(data)\\n\",\n",
    "    \"    #to check if we pushed all the data, there must be 100 items\\n\",\n",
    "    \"    def get_demographics(self):\\n\",\n",
    "    \"        return len((self.database.collection('crime_rates').document(\\\"scail\\\").get().to_dict()).ke\n",
    "ys())\""
   ]
  }
 ],
 "metadata": {
  "kernelspec": {
   "display_name": "Python 3",
   "language": "python",
   "name": "python3"
  },
  "language_info": {
   "name": "python",
   "version": "3.12.4"
  }
 },
 "nbformat": 4,
 "nbformat_minor": 2
}
